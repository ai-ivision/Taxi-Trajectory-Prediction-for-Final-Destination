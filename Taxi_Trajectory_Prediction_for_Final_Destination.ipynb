{
  "cells": [
    {
      "cell_type": "markdown",
      "metadata": {},
      "source": [
        "# Problem Statement: Taxi Trajectory Prediction for Final Destination\n",
        "## Domain : Transpotation \n",
        "\n",
        "## Context\n",
        "In modern urban environments, efficient transportation systems are crucial for minimizing travel time, reducing fuel consumption, and decreasing traffic congestion. Taxis play a significant role in this ecosystem, and predicting the final destination of a taxi trip can provide substantial benefits. These include improved dispatch systems, better ride-sharing matching, and enhanced passenger experience.\n",
        "\n",
        "## Problem\n",
        "Given the initial segment of a taxi's trajectory, predict the final destination of the trip. The trajectory data includes the sequence of GPS coordinates along with time stamps and other relevant features such as speed, heading, and possibly contextual information like weather conditions or traffic patterns.\n",
        "\n",
        "## Objectives\n",
        "- **Develop Predictive Models**: Create machine learning models that can accurately predict the final destination of a taxi trip based on the initial part of the trajectory.\n",
        "- **Feature Engineering**: Identify and extract relevant features from the trajectory data that significantly influence the prediction accuracy.\n",
        "- **Model Evaluation**: Establish metrics and evaluation frameworks to assess the performance of the predictive models. Common metrics might include Mean Absolute Error (MAE), Mean Squared Error (MSE), and accuracy within a certain radius.\n",
        "- **Real-Time Prediction**: Ensure that the models are capable of making predictions in real-time or near-real-time to be practical for deployment in live taxi dispatch systems.\n",
        "\n",
        "## Data\n",
        "\n",
        "\n",
        "## Challenges\n",
        "- **Data Sparsity**: Incomplete or sparsely sampled GPS data may affect the accuracy of predictions.\n",
        "- **Dynamic Traffic Conditions**: Real-time traffic conditions can significantly influence the route taken by a taxi, making prediction more challenging.\n",
        "- **Diverse Destinations**: Taxis can have a wide range of possible destinations, from popular landmarks to obscure locations, adding to the complexity.\n",
        "- **Temporal Variability**: Time of day, day of the week, and seasonal variations can impact travel patterns and must be accounted for in the models.\n",
        "\n",
        "## Tasks to be performed\n",
        "1. Task 1: Data Loading and EDA\n",
        "2. Task 2: Data Preprocessing\n",
        "3. Task 3:  Model Building and Prediction\n",
        "4. Task 4: Validation and Preparing the final result\n",
        "5. Task 5: Validate the data for the accuracy observer based upon the test data.\n",
        "\n",
        "## Expected Outcomes\n",
        "- **Accurate Prediction Models**: High-performing models that can predict the final destination of a taxi trip with reasonable accuracy.\n",
        "- **Insights into Trajectory Patterns**: Understanding of common trajectory patterns and factors influencing taxi routes.\n",
        "- **Improved Transportation Systems**: Application of the prediction models to enhance taxi dispatching, reduce wait times, and improve overall efficiency of urban transportation systems.\n",
        "\n",
        "## Evaluation Criteria\n",
        "- **Prediction Accuracy**: Measured by how close the predicted destination is to the actual destination.\n",
        "- **Computational Efficiency**: The ability of the model to make predictions quickly enough for real-time applications.\n",
        "- **Robustness**: The model’s performance across different scenarios, including various times of day and traffic conditions.\n",
        "- **Scalability**: The ability to handle large volumes of data and multiple taxis simultaneously.\n",
        "\n",
        "This problem statement aims to address the complex task of predicting taxi destinations, contributing to more efficient urban transportation solutions and enhanced passenger experiences.\n"
      ]
    },
    {
      "cell_type": "markdown",
      "metadata": {},
      "source": [
        "### Importing Libraries"
      ]
    },
    {
      "cell_type": "code",
      "execution_count": 99,
      "metadata": {
        "id": "_0pjsXeZxW4_"
      },
      "outputs": [],
      "source": [
        "# Besic Libraries\n",
        "import numpy as np\n",
        "import pandas as pd\n",
        "\n",
        "import warnings\n",
        "\n",
        "warnings.simplefilter('ignore')\n",
        "\n",
        "from IPython.core.interactiveshell import InteractiveShell\n",
        "\n",
        "InteractiveShell.ast_node_interactivity = \"all\""
      ]
    },
    {
      "cell_type": "code",
      "execution_count": 100,
      "metadata": {},
      "outputs": [],
      "source": [
        "# Data Preprocessing Libraries\n",
        "import datetime\n",
        "import re\n",
        "from sklearn.model_selection import train_test_split\n",
        "from sklearn.preprocessing import StandardScaler"
      ]
    },
    {
      "cell_type": "code",
      "execution_count": 101,
      "metadata": {},
      "outputs": [],
      "source": [
        "# Data Visualization Libraries\n",
        "import matplotlib.pyplot as plt\n",
        "import seaborn as sns\n",
        "import folium\n",
        "\n",
        "# %matplotlib inline"
      ]
    },
    {
      "cell_type": "code",
      "execution_count": 168,
      "metadata": {},
      "outputs": [],
      "source": [
        "# Model \n",
        "from sklearn.ensemble import RandomForestRegressor\n",
        "from sklearn.multioutput import MultiOutputRegressor\n",
        "from xgboost import XGBRegressor\n",
        "from sklearn.ensemble import GradientBoostingRegressor"
      ]
    },
    {
      "cell_type": "code",
      "execution_count": 103,
      "metadata": {},
      "outputs": [],
      "source": [
        "# Parameter Optimization\n",
        "from sklearn.model_selection import GridSearchCV"
      ]
    },
    {
      "cell_type": "code",
      "execution_count": 104,
      "metadata": {},
      "outputs": [],
      "source": [
        "# Validation \n",
        "from sklearn.metrics import mean_squared_error, mean_absolute_error, r2_score"
      ]
    },
    {
      "cell_type": "markdown",
      "metadata": {},
      "source": [
        "### Data loading"
      ]
    },
    {
      "cell_type": "code",
      "execution_count": 105,
      "metadata": {},
      "outputs": [],
      "source": [
        "data = pd.read_csv(\"./Data/train/train.csv\")"
      ]
    },
    {
      "cell_type": "code",
      "execution_count": 106,
      "metadata": {},
      "outputs": [
        {
          "name": "stdout",
          "output_type": "stream",
          "text": [
            "The shape of the dataset is : (1710670, 9)\n"
          ]
        }
      ],
      "source": [
        "print(f\"The shape of the dataset is : {data.shape}\")"
      ]
    },
    {
      "cell_type": "code",
      "execution_count": 107,
      "metadata": {},
      "outputs": [
        {
          "data": {
            "text/html": [
              "<div>\n",
              "<style scoped>\n",
              "    .dataframe tbody tr th:only-of-type {\n",
              "        vertical-align: middle;\n",
              "    }\n",
              "\n",
              "    .dataframe tbody tr th {\n",
              "        vertical-align: top;\n",
              "    }\n",
              "\n",
              "    .dataframe thead th {\n",
              "        text-align: right;\n",
              "    }\n",
              "</style>\n",
              "<table border=\"1\" class=\"dataframe\">\n",
              "  <thead>\n",
              "    <tr style=\"text-align: right;\">\n",
              "      <th></th>\n",
              "      <th>TRIP_ID</th>\n",
              "      <th>CALL_TYPE</th>\n",
              "      <th>ORIGIN_CALL</th>\n",
              "      <th>ORIGIN_STAND</th>\n",
              "      <th>TAXI_ID</th>\n",
              "      <th>TIMESTAMP</th>\n",
              "      <th>DAY_TYPE</th>\n",
              "      <th>MISSING_DATA</th>\n",
              "      <th>POLYLINE</th>\n",
              "    </tr>\n",
              "  </thead>\n",
              "  <tbody>\n",
              "    <tr>\n",
              "      <th>0</th>\n",
              "      <td>1372636858620000589</td>\n",
              "      <td>C</td>\n",
              "      <td>NaN</td>\n",
              "      <td>NaN</td>\n",
              "      <td>20000589</td>\n",
              "      <td>1372636858</td>\n",
              "      <td>A</td>\n",
              "      <td>False</td>\n",
              "      <td>[[-8.618643,41.141412],[-8.618499,41.141376],[...</td>\n",
              "    </tr>\n",
              "    <tr>\n",
              "      <th>1</th>\n",
              "      <td>1372637303620000596</td>\n",
              "      <td>B</td>\n",
              "      <td>NaN</td>\n",
              "      <td>7.0</td>\n",
              "      <td>20000596</td>\n",
              "      <td>1372637303</td>\n",
              "      <td>A</td>\n",
              "      <td>False</td>\n",
              "      <td>[[-8.639847,41.159826],[-8.640351,41.159871],[...</td>\n",
              "    </tr>\n",
              "    <tr>\n",
              "      <th>2</th>\n",
              "      <td>1372636951620000320</td>\n",
              "      <td>C</td>\n",
              "      <td>NaN</td>\n",
              "      <td>NaN</td>\n",
              "      <td>20000320</td>\n",
              "      <td>1372636951</td>\n",
              "      <td>A</td>\n",
              "      <td>False</td>\n",
              "      <td>[[-8.612964,41.140359],[-8.613378,41.14035],[-...</td>\n",
              "    </tr>\n",
              "    <tr>\n",
              "      <th>3</th>\n",
              "      <td>1372636854620000520</td>\n",
              "      <td>C</td>\n",
              "      <td>NaN</td>\n",
              "      <td>NaN</td>\n",
              "      <td>20000520</td>\n",
              "      <td>1372636854</td>\n",
              "      <td>A</td>\n",
              "      <td>False</td>\n",
              "      <td>[[-8.574678,41.151951],[-8.574705,41.151942],[...</td>\n",
              "    </tr>\n",
              "    <tr>\n",
              "      <th>4</th>\n",
              "      <td>1372637091620000337</td>\n",
              "      <td>C</td>\n",
              "      <td>NaN</td>\n",
              "      <td>NaN</td>\n",
              "      <td>20000337</td>\n",
              "      <td>1372637091</td>\n",
              "      <td>A</td>\n",
              "      <td>False</td>\n",
              "      <td>[[-8.645994,41.18049],[-8.645949,41.180517],[-...</td>\n",
              "    </tr>\n",
              "  </tbody>\n",
              "</table>\n",
              "</div>"
            ],
            "text/plain": [
              "               TRIP_ID CALL_TYPE  ORIGIN_CALL  ORIGIN_STAND   TAXI_ID  \\\n",
              "0  1372636858620000589         C          NaN           NaN  20000589   \n",
              "1  1372637303620000596         B          NaN           7.0  20000596   \n",
              "2  1372636951620000320         C          NaN           NaN  20000320   \n",
              "3  1372636854620000520         C          NaN           NaN  20000520   \n",
              "4  1372637091620000337         C          NaN           NaN  20000337   \n",
              "\n",
              "    TIMESTAMP DAY_TYPE  MISSING_DATA  \\\n",
              "0  1372636858        A         False   \n",
              "1  1372637303        A         False   \n",
              "2  1372636951        A         False   \n",
              "3  1372636854        A         False   \n",
              "4  1372637091        A         False   \n",
              "\n",
              "                                            POLYLINE  \n",
              "0  [[-8.618643,41.141412],[-8.618499,41.141376],[...  \n",
              "1  [[-8.639847,41.159826],[-8.640351,41.159871],[...  \n",
              "2  [[-8.612964,41.140359],[-8.613378,41.14035],[-...  \n",
              "3  [[-8.574678,41.151951],[-8.574705,41.151942],[...  \n",
              "4  [[-8.645994,41.18049],[-8.645949,41.180517],[-...  "
            ]
          },
          "execution_count": 107,
          "metadata": {},
          "output_type": "execute_result"
        }
      ],
      "source": [
        "data.head()"
      ]
    },
    {
      "cell_type": "code",
      "execution_count": 108,
      "metadata": {},
      "outputs": [
        {
          "name": "stdout",
          "output_type": "stream",
          "text": [
            "<class 'pandas.core.frame.DataFrame'>\n",
            "RangeIndex: 1710670 entries, 0 to 1710669\n",
            "Data columns (total 9 columns):\n",
            " #   Column        Dtype  \n",
            "---  ------        -----  \n",
            " 0   TRIP_ID       int64  \n",
            " 1   CALL_TYPE     object \n",
            " 2   ORIGIN_CALL   float64\n",
            " 3   ORIGIN_STAND  float64\n",
            " 4   TAXI_ID       int64  \n",
            " 5   TIMESTAMP     int64  \n",
            " 6   DAY_TYPE      object \n",
            " 7   MISSING_DATA  bool   \n",
            " 8   POLYLINE      object \n",
            "dtypes: bool(1), float64(2), int64(3), object(3)\n",
            "memory usage: 106.0+ MB\n"
          ]
        }
      ],
      "source": [
        "data.info()"
      ]
    },
    {
      "cell_type": "code",
      "execution_count": 109,
      "metadata": {},
      "outputs": [
        {
          "data": {
            "text/html": [
              "<div>\n",
              "<style scoped>\n",
              "    .dataframe tbody tr th:only-of-type {\n",
              "        vertical-align: middle;\n",
              "    }\n",
              "\n",
              "    .dataframe tbody tr th {\n",
              "        vertical-align: top;\n",
              "    }\n",
              "\n",
              "    .dataframe thead th {\n",
              "        text-align: right;\n",
              "    }\n",
              "</style>\n",
              "<table border=\"1\" class=\"dataframe\">\n",
              "  <thead>\n",
              "    <tr style=\"text-align: right;\">\n",
              "      <th></th>\n",
              "      <th>TRIP_ID</th>\n",
              "      <th>ORIGIN_CALL</th>\n",
              "      <th>ORIGIN_STAND</th>\n",
              "      <th>TAXI_ID</th>\n",
              "      <th>TIMESTAMP</th>\n",
              "    </tr>\n",
              "  </thead>\n",
              "  <tbody>\n",
              "    <tr>\n",
              "      <th>count</th>\n",
              "      <td>1.710670e+06</td>\n",
              "      <td>364770.000000</td>\n",
              "      <td>806579.000000</td>\n",
              "      <td>1.710670e+06</td>\n",
              "      <td>1.710670e+06</td>\n",
              "    </tr>\n",
              "    <tr>\n",
              "      <th>mean</th>\n",
              "      <td>1.388622e+18</td>\n",
              "      <td>24490.363018</td>\n",
              "      <td>30.272381</td>\n",
              "      <td>2.000035e+07</td>\n",
              "      <td>1.388622e+09</td>\n",
              "    </tr>\n",
              "    <tr>\n",
              "      <th>std</th>\n",
              "      <td>9.180944e+15</td>\n",
              "      <td>19624.290043</td>\n",
              "      <td>17.747840</td>\n",
              "      <td>2.112405e+02</td>\n",
              "      <td>9.180944e+06</td>\n",
              "    </tr>\n",
              "    <tr>\n",
              "      <th>min</th>\n",
              "      <td>1.372637e+18</td>\n",
              "      <td>2001.000000</td>\n",
              "      <td>1.000000</td>\n",
              "      <td>2.000000e+07</td>\n",
              "      <td>1.372637e+09</td>\n",
              "    </tr>\n",
              "    <tr>\n",
              "      <th>25%</th>\n",
              "      <td>1.380731e+18</td>\n",
              "      <td>6593.000000</td>\n",
              "      <td>15.000000</td>\n",
              "      <td>2.000017e+07</td>\n",
              "      <td>1.380731e+09</td>\n",
              "    </tr>\n",
              "    <tr>\n",
              "      <th>50%</th>\n",
              "      <td>1.388493e+18</td>\n",
              "      <td>18755.000000</td>\n",
              "      <td>27.000000</td>\n",
              "      <td>2.000034e+07</td>\n",
              "      <td>1.388493e+09</td>\n",
              "    </tr>\n",
              "    <tr>\n",
              "      <th>75%</th>\n",
              "      <td>1.396750e+18</td>\n",
              "      <td>40808.000000</td>\n",
              "      <td>49.000000</td>\n",
              "      <td>2.000052e+07</td>\n",
              "      <td>1.396750e+09</td>\n",
              "    </tr>\n",
              "    <tr>\n",
              "      <th>max</th>\n",
              "      <td>1.404173e+18</td>\n",
              "      <td>63884.000000</td>\n",
              "      <td>63.000000</td>\n",
              "      <td>2.000098e+07</td>\n",
              "      <td>1.404173e+09</td>\n",
              "    </tr>\n",
              "  </tbody>\n",
              "</table>\n",
              "</div>"
            ],
            "text/plain": [
              "            TRIP_ID    ORIGIN_CALL   ORIGIN_STAND       TAXI_ID     TIMESTAMP\n",
              "count  1.710670e+06  364770.000000  806579.000000  1.710670e+06  1.710670e+06\n",
              "mean   1.388622e+18   24490.363018      30.272381  2.000035e+07  1.388622e+09\n",
              "std    9.180944e+15   19624.290043      17.747840  2.112405e+02  9.180944e+06\n",
              "min    1.372637e+18    2001.000000       1.000000  2.000000e+07  1.372637e+09\n",
              "25%    1.380731e+18    6593.000000      15.000000  2.000017e+07  1.380731e+09\n",
              "50%    1.388493e+18   18755.000000      27.000000  2.000034e+07  1.388493e+09\n",
              "75%    1.396750e+18   40808.000000      49.000000  2.000052e+07  1.396750e+09\n",
              "max    1.404173e+18   63884.000000      63.000000  2.000098e+07  1.404173e+09"
            ]
          },
          "execution_count": 109,
          "metadata": {},
          "output_type": "execute_result"
        }
      ],
      "source": [
        "data.describe()"
      ]
    },
    {
      "cell_type": "code",
      "execution_count": 110,
      "metadata": {},
      "outputs": [
        {
          "data": {
            "text/plain": [
              "2249991"
            ]
          },
          "execution_count": 110,
          "metadata": {},
          "output_type": "execute_result"
        }
      ],
      "source": [
        "data.isnull().sum().sum()"
      ]
    },
    {
      "cell_type": "code",
      "execution_count": 111,
      "metadata": {},
      "outputs": [
        {
          "data": {
            "text/plain": [
              "TRIP_ID               0\n",
              "CALL_TYPE             0\n",
              "ORIGIN_CALL     1345900\n",
              "ORIGIN_STAND     904091\n",
              "TAXI_ID               0\n",
              "TIMESTAMP             0\n",
              "DAY_TYPE              0\n",
              "MISSING_DATA          0\n",
              "POLYLINE              0\n",
              "dtype: int64"
            ]
          },
          "execution_count": 111,
          "metadata": {},
          "output_type": "execute_result"
        }
      ],
      "source": [
        "data.isnull().sum()"
      ]
    },
    {
      "cell_type": "code",
      "execution_count": 112,
      "metadata": {},
      "outputs": [
        {
          "name": "stdout",
          "output_type": "stream",
          "text": [
            "Object Columns : ['CALL_TYPE', 'DAY_TYPE', 'POLYLINE']\n",
            "Numerical Columns : ['TRIP_ID', 'ORIGIN_CALL', 'ORIGIN_STAND', 'TAXI_ID', 'TIMESTAMP', 'MISSING_DATA']\n"
          ]
        }
      ],
      "source": [
        "obj_cols = []\n",
        "num_cols = []\n",
        "\n",
        "for col in data.columns:\n",
        "    if data[col].dtype == 'object':\n",
        "        obj_cols.append(col)\n",
        "    else:\n",
        "        num_cols.append(col)\n",
        "\n",
        "print(f\"Object Columns : {obj_cols}\")\n",
        "print(f\"Numerical Columns : {num_cols}\")"
      ]
    },
    {
      "cell_type": "code",
      "execution_count": 113,
      "metadata": {},
      "outputs": [
        {
          "name": "stdout",
          "output_type": "stream",
          "text": [
            "----------------------------------------------------------------------------------------------------\n",
            "TRIP_ID\n",
            "1397172149620000454    3\n",
            "1402085470620000527    2\n",
            "1389002485620000685    2\n",
            "1393869017620000066    2\n",
            "1389782974620000562    2\n",
            "                      ..\n",
            "1383230303620000482    1\n",
            "1383229061620000294    1\n",
            "1383230110620000068    1\n",
            "1383227731620000239    1\n",
            "1404157147620000079    1\n",
            "Name: count, Length: 1710589, dtype: int64\n",
            "----------------------------------------------------------------------------------------------------\n",
            "CALL_TYPE\n",
            "B    817881\n",
            "C    528019\n",
            "A    364770\n",
            "Name: count, dtype: int64\n",
            "----------------------------------------------------------------------------------------------------\n",
            "ORIGIN_CALL\n",
            "2002.0     57571\n",
            "63882.0     6406\n",
            "2001.0      2499\n",
            "13168.0     1314\n",
            "6728.0      1115\n",
            "           ...  \n",
            "23600.0        1\n",
            "37142.0        1\n",
            "7028.0         1\n",
            "49288.0        1\n",
            "34164.0        1\n",
            "Name: count, Length: 57105, dtype: int64\n",
            "----------------------------------------------------------------------------------------------------\n",
            "ORIGIN_STAND\n",
            "15.0    80241\n",
            "57.0    50882\n",
            "9.0     34818\n",
            "33.0    34128\n",
            "23.0    33344\n",
            "        ...  \n",
            "41.0      506\n",
            "43.0      493\n",
            "8.0       381\n",
            "5.0        53\n",
            "48.0        7\n",
            "Name: count, Length: 63, dtype: int64\n",
            "----------------------------------------------------------------------------------------------------\n",
            "TAXI_ID\n",
            "20000080    10746\n",
            "20000403     9238\n",
            "20000066     8449\n",
            "20000364     7821\n",
            "20000483     7729\n",
            "            ...  \n",
            "20000264        2\n",
            "20000911        2\n",
            "20000940        1\n",
            "20000970        1\n",
            "20000931        1\n",
            "Name: count, Length: 448, dtype: int64\n",
            "----------------------------------------------------------------------------------------------------\n",
            "TIMESTAMP\n",
            "1397134648    5\n",
            "1395948682    5\n",
            "1395946152    5\n",
            "1403585916    4\n",
            "1384657881    4\n",
            "             ..\n",
            "1383355869    1\n",
            "1383356708    1\n",
            "1383357615    1\n",
            "1383358101    1\n",
            "1404157147    1\n",
            "Name: count, Length: 1655366, dtype: int64\n",
            "----------------------------------------------------------------------------------------------------\n",
            "DAY_TYPE\n",
            "A    1710670\n",
            "Name: count, dtype: int64\n",
            "----------------------------------------------------------------------------------------------------\n",
            "MISSING_DATA\n",
            "False    1710660\n",
            "True          10\n",
            "Name: count, dtype: int64\n",
            "----------------------------------------------------------------------------------------------------\n",
            "POLYLINE\n",
            "[]                                                                                                                                                                                                                                                                                                                                                                                                                                                                                                                                                                                                                                                                                                                                                                                                                                                                                                                                                                                                                                                                                                                                                                                                                                                                    5901\n",
            "[[-8.648289,41.170419],[-8.648037,41.170599],[-8.646804,41.169726],[-8.645958,41.169303],[-8.645022,41.169339]]                                                                                                                                                                                                                                                                                                                                                                                                                                                                                                                                                                                                                                                                                                                                                                                                                                                                                                                                                                                                                                                                                                                                                         15\n",
            "[[-8.585658,41.148594]]                                                                                                                                                                                                                                                                                                                                                                                                                                                                                                                                                                                                                                                                                                                                                                                                                                                                                                                                                                                                                                                                                                                                                                                                                                                  6\n",
            "[[-8.597709,41.182173],[-8.596908,41.182578],[-8.596899,41.183982],[-8.596845,41.185602],[-8.5968,41.186943],[-8.597268,41.187618]]                                                                                                                                                                                                                                                                                                                                                                                                                                                                                                                                                                                                                                                                                                                                                                                                                                                                                                                                                                                                                                                                                                                                      5\n",
            "[[-8.598177,41.148252],[-8.597457,41.147001],[-8.597376,41.146272],[-8.597439,41.146227],[-8.597025,41.146038],[-8.596701,41.146155]]                                                                                                                                                                                                                                                                                                                                                                                                                                                                                                                                                                                                                                                                                                                                                                                                                                                                                                                                                                                                                                                                                                                                    5\n",
            "                                                                                                                                                                                                                                                                                                                                                                                                                                                                                                                                                                                                                                                                                                                                                                                                                                                                                                                                                                                                                                                                                                                                                                                                                                                                      ... \n",
            "[[-8.610723,41.140737],[-8.61066,41.140746],[-8.610264,41.140791],[-8.610048,41.140854],[-8.610966,41.14134],[-8.61372,41.141358],[-8.614539,41.141223],[-8.614323,41.142303],[-8.613738,41.143095],[-8.612973,41.143662],[-8.612118,41.144274],[-8.611326,41.144859],[-8.610885,41.145183],[-8.610741,41.145966],[-8.610282,41.146272],[-8.610138,41.14638],[-8.609958,41.146497],[-8.609364,41.146794],[-8.608806,41.147136],[-8.608779,41.14719],[-8.608401,41.14773],[-8.608284,41.148081],[-8.608203,41.148261],[-8.608122,41.148342],[-8.607969,41.148594],[-8.607978,41.148603],[-8.608005,41.148621],[-8.607942,41.14872],[-8.607555,41.148693],[-8.607222,41.148549],[-8.607123,41.14854],[-8.60661,41.148396],[-8.605962,41.148261],[-8.605386,41.148081],[-8.604567,41.147865],[-8.603892,41.147721],[-8.602686,41.147316],[-8.601705,41.14719],[-8.600805,41.147469],[-8.600535,41.147559],[-8.599977,41.147775],[-8.599896,41.147802],[-8.599842,41.147811],[-8.599833,41.147829],[-8.599779,41.147856],[-8.59932,41.148027],[-8.599203,41.148036],[-8.599221,41.148027],[-8.599221,41.148],[-8.599113,41.148009],[-8.598564,41.148252],[-8.598438,41.14863],[-8.598735,41.149269],[-8.598105,41.150385],[-8.598312,41.150655],[-8.598816,41.150781]]       1\n",
            "[[-8.622261,41.155902],[-8.621307,41.155929],[-8.621055,41.155749],[-8.620605,41.155587],[-8.619174,41.155353],[-8.617437,41.155029],[-8.615403,41.154633],[-8.61354,41.154255],[-8.613549,41.154282],[-8.613297,41.153895],[-8.613279,41.153805],[-8.612694,41.153598],[-8.611839,41.153562],[-8.610156,41.153499],[-8.610021,41.153337],[-8.610012,41.151978],[-8.610003,41.151969],[-8.610066,41.151924],[-8.610849,41.150853],[-8.610858,41.150547],[-8.61084,41.150574],[-8.611128,41.149503],[-8.611209,41.148054],[-8.611218,41.148045],[-8.611254,41.148018],[-8.611308,41.148018],[-8.61138,41.147784],[-8.611371,41.14746],[-8.611398,41.147289],[-8.611425,41.147082],[-8.611461,41.147028]]                                                                                                                                                                                                                                                                                                                                                                                                                                                                                                                                                                  1\n",
            "[[-8.612217,41.172795],[-8.612424,41.172759],[-8.612541,41.172768],[-8.612892,41.172804],[-8.613072,41.173182],[-8.613306,41.174154],[-8.613729,41.175387],[-8.614926,41.175639],[-8.617374,41.175288],[-8.619633,41.174964],[-8.620344,41.175477],[-8.620164,41.176575],[-8.621604,41.176998],[-8.623791,41.177529],[-8.624241,41.178231],[-8.62353,41.179176],[-8.624439,41.179563],[-8.624691,41.179374],[-8.624691,41.179356],[-8.624682,41.179347],[-8.624412,41.179482]]                                                                                                                                                                                                                                                                                                                                                                                                                                                                                                                                                                                                                                                                                                                                                                                           1\n",
            "[[-8.601912,41.169906],[-8.603172,41.16996],[-8.603532,41.169492],[-8.603505,41.168331],[-8.603487,41.166846],[-8.603019,41.165946],[-8.60265,41.165334],[-8.602038,41.16447],[-8.601696,41.163903],[-8.601678,41.16393],[-8.601651,41.163948],[-8.601642,41.163966],[-8.601651,41.163759],[-8.602893,41.162751],[-8.603838,41.162076],[-8.603847,41.162076]]                                                                                                                                                                                                                                                                                                                                                                                                                                                                                                                                                                                                                                                                                                                                                                                                                                                                                                            1\n",
            "[[-8.615538,41.140629],[-8.615421,41.140746],[-8.614791,41.140953],[-8.614503,41.141331],[-8.61444,41.141808],[-8.614008,41.142924],[-8.612505,41.143851],[-8.611659,41.144526],[-8.611209,41.144886],[-8.611209,41.144886],[-8.61111,41.144886],[-8.61111,41.144886],[-8.610705,41.145831],[-8.609535,41.146677],[-8.608752,41.147217],[-8.609751,41.14764],[-8.610714,41.147847],[-8.610714,41.147847],[-8.611074,41.147802],[-8.61273,41.148099],[-8.620254,41.147649],[-8.620758,41.149089],[-8.620929,41.149854],[-8.620893,41.149881],[-8.620893,41.149881],[-8.620893,41.149881],[-8.620893,41.149881]]                                                                                                                                                                                                                                                                                                                                                                                                                                                                                                                                                                                                                                                           1\n",
            "Name: count, Length: 1703650, dtype: int64\n"
          ]
        }
      ],
      "source": [
        "for i in range(data.shape[1]):\n",
        "    print(f\"-\"*100)\n",
        "    # print(data.columns[i])\n",
        "    print(data.iloc[:,i].value_counts())"
      ]
    },
    {
      "cell_type": "markdown",
      "metadata": {},
      "source": [
        "### EDA"
      ]
    },
    {
      "cell_type": "code",
      "execution_count": 114,
      "metadata": {},
      "outputs": [],
      "source": [
        "# Processing the time column\n",
        "data['TIMESTAMP'] = [float(time) for time in data['TIMESTAMP']]\n",
        "\n",
        "data['dt'] = [datetime.datetime.fromtimestamp(time, datetime.timezone.utc) for time in data['TIMESTAMP']]"
      ]
    },
    {
      "cell_type": "code",
      "execution_count": 115,
      "metadata": {},
      "outputs": [
        {
          "data": {
            "text/plain": [
              "TIMESTAMP\n",
              "1.397135e+09    5\n",
              "1.395949e+09    5\n",
              "1.395946e+09    5\n",
              "1.403586e+09    4\n",
              "1.384658e+09    4\n",
              "               ..\n",
              "1.383356e+09    1\n",
              "1.383357e+09    1\n",
              "1.383358e+09    1\n",
              "1.383358e+09    1\n",
              "1.404157e+09    1\n",
              "Name: count, Length: 1655366, dtype: int64"
            ]
          },
          "execution_count": 115,
          "metadata": {},
          "output_type": "execute_result"
        }
      ],
      "source": [
        "data['TIMESTAMP'].value_counts()"
      ]
    },
    {
      "cell_type": "code",
      "execution_count": 116,
      "metadata": {},
      "outputs": [
        {
          "data": {
            "text/plain": [
              "dt\n",
              "2014-04-10 12:57:28+00:00    5\n",
              "2014-03-27 19:31:22+00:00    5\n",
              "2014-03-27 18:49:12+00:00    5\n",
              "2014-06-24 04:58:36+00:00    4\n",
              "2013-11-17 03:11:21+00:00    4\n",
              "                            ..\n",
              "2013-11-02 01:31:09+00:00    1\n",
              "2013-11-02 01:45:08+00:00    1\n",
              "2013-11-02 02:00:15+00:00    1\n",
              "2013-11-02 02:08:21+00:00    1\n",
              "2014-06-30 19:39:07+00:00    1\n",
              "Name: count, Length: 1655366, dtype: int64"
            ]
          },
          "execution_count": 116,
          "metadata": {},
          "output_type": "execute_result"
        }
      ],
      "source": [
        "data['dt'].value_counts()"
      ]
    },
    {
      "cell_type": "code",
      "execution_count": 117,
      "metadata": {},
      "outputs": [],
      "source": [
        "data['year'] = data['dt'].dt.year\n",
        "data['month'] = data['dt'].dt.month\n",
        "data['day'] = data['dt'].dt.day\n",
        "data['hour'] = data['dt'].dt.hour\n",
        "data['min'] = data['dt'].dt.minute\n",
        "data['weekday'] = data['dt'].dt.weekday"
      ]
    },
    {
      "cell_type": "code",
      "execution_count": 118,
      "metadata": {},
      "outputs": [
        {
          "data": {
            "text/html": [
              "<div>\n",
              "<style scoped>\n",
              "    .dataframe tbody tr th:only-of-type {\n",
              "        vertical-align: middle;\n",
              "    }\n",
              "\n",
              "    .dataframe tbody tr th {\n",
              "        vertical-align: top;\n",
              "    }\n",
              "\n",
              "    .dataframe thead th {\n",
              "        text-align: right;\n",
              "    }\n",
              "</style>\n",
              "<table border=\"1\" class=\"dataframe\">\n",
              "  <thead>\n",
              "    <tr style=\"text-align: right;\">\n",
              "      <th></th>\n",
              "      <th>TRIP_ID</th>\n",
              "      <th>CALL_TYPE</th>\n",
              "      <th>ORIGIN_CALL</th>\n",
              "      <th>ORIGIN_STAND</th>\n",
              "      <th>TAXI_ID</th>\n",
              "      <th>TIMESTAMP</th>\n",
              "      <th>DAY_TYPE</th>\n",
              "      <th>MISSING_DATA</th>\n",
              "      <th>POLYLINE</th>\n",
              "      <th>dt</th>\n",
              "      <th>year</th>\n",
              "      <th>month</th>\n",
              "      <th>day</th>\n",
              "      <th>hour</th>\n",
              "      <th>min</th>\n",
              "      <th>weekday</th>\n",
              "    </tr>\n",
              "  </thead>\n",
              "  <tbody>\n",
              "    <tr>\n",
              "      <th>0</th>\n",
              "      <td>1372636858620000589</td>\n",
              "      <td>C</td>\n",
              "      <td>NaN</td>\n",
              "      <td>NaN</td>\n",
              "      <td>20000589</td>\n",
              "      <td>1.372637e+09</td>\n",
              "      <td>A</td>\n",
              "      <td>False</td>\n",
              "      <td>[[-8.618643,41.141412],[-8.618499,41.141376],[...</td>\n",
              "      <td>2013-07-01 00:00:58+00:00</td>\n",
              "      <td>2013</td>\n",
              "      <td>7</td>\n",
              "      <td>1</td>\n",
              "      <td>0</td>\n",
              "      <td>0</td>\n",
              "      <td>0</td>\n",
              "    </tr>\n",
              "    <tr>\n",
              "      <th>1</th>\n",
              "      <td>1372637303620000596</td>\n",
              "      <td>B</td>\n",
              "      <td>NaN</td>\n",
              "      <td>7.0</td>\n",
              "      <td>20000596</td>\n",
              "      <td>1.372637e+09</td>\n",
              "      <td>A</td>\n",
              "      <td>False</td>\n",
              "      <td>[[-8.639847,41.159826],[-8.640351,41.159871],[...</td>\n",
              "      <td>2013-07-01 00:08:23+00:00</td>\n",
              "      <td>2013</td>\n",
              "      <td>7</td>\n",
              "      <td>1</td>\n",
              "      <td>0</td>\n",
              "      <td>8</td>\n",
              "      <td>0</td>\n",
              "    </tr>\n",
              "    <tr>\n",
              "      <th>2</th>\n",
              "      <td>1372636951620000320</td>\n",
              "      <td>C</td>\n",
              "      <td>NaN</td>\n",
              "      <td>NaN</td>\n",
              "      <td>20000320</td>\n",
              "      <td>1.372637e+09</td>\n",
              "      <td>A</td>\n",
              "      <td>False</td>\n",
              "      <td>[[-8.612964,41.140359],[-8.613378,41.14035],[-...</td>\n",
              "      <td>2013-07-01 00:02:31+00:00</td>\n",
              "      <td>2013</td>\n",
              "      <td>7</td>\n",
              "      <td>1</td>\n",
              "      <td>0</td>\n",
              "      <td>2</td>\n",
              "      <td>0</td>\n",
              "    </tr>\n",
              "    <tr>\n",
              "      <th>3</th>\n",
              "      <td>1372636854620000520</td>\n",
              "      <td>C</td>\n",
              "      <td>NaN</td>\n",
              "      <td>NaN</td>\n",
              "      <td>20000520</td>\n",
              "      <td>1.372637e+09</td>\n",
              "      <td>A</td>\n",
              "      <td>False</td>\n",
              "      <td>[[-8.574678,41.151951],[-8.574705,41.151942],[...</td>\n",
              "      <td>2013-07-01 00:00:54+00:00</td>\n",
              "      <td>2013</td>\n",
              "      <td>7</td>\n",
              "      <td>1</td>\n",
              "      <td>0</td>\n",
              "      <td>0</td>\n",
              "      <td>0</td>\n",
              "    </tr>\n",
              "    <tr>\n",
              "      <th>4</th>\n",
              "      <td>1372637091620000337</td>\n",
              "      <td>C</td>\n",
              "      <td>NaN</td>\n",
              "      <td>NaN</td>\n",
              "      <td>20000337</td>\n",
              "      <td>1.372637e+09</td>\n",
              "      <td>A</td>\n",
              "      <td>False</td>\n",
              "      <td>[[-8.645994,41.18049],[-8.645949,41.180517],[-...</td>\n",
              "      <td>2013-07-01 00:04:51+00:00</td>\n",
              "      <td>2013</td>\n",
              "      <td>7</td>\n",
              "      <td>1</td>\n",
              "      <td>0</td>\n",
              "      <td>4</td>\n",
              "      <td>0</td>\n",
              "    </tr>\n",
              "  </tbody>\n",
              "</table>\n",
              "</div>"
            ],
            "text/plain": [
              "               TRIP_ID CALL_TYPE  ORIGIN_CALL  ORIGIN_STAND   TAXI_ID  \\\n",
              "0  1372636858620000589         C          NaN           NaN  20000589   \n",
              "1  1372637303620000596         B          NaN           7.0  20000596   \n",
              "2  1372636951620000320         C          NaN           NaN  20000320   \n",
              "3  1372636854620000520         C          NaN           NaN  20000520   \n",
              "4  1372637091620000337         C          NaN           NaN  20000337   \n",
              "\n",
              "      TIMESTAMP DAY_TYPE  MISSING_DATA  \\\n",
              "0  1.372637e+09        A         False   \n",
              "1  1.372637e+09        A         False   \n",
              "2  1.372637e+09        A         False   \n",
              "3  1.372637e+09        A         False   \n",
              "4  1.372637e+09        A         False   \n",
              "\n",
              "                                            POLYLINE  \\\n",
              "0  [[-8.618643,41.141412],[-8.618499,41.141376],[...   \n",
              "1  [[-8.639847,41.159826],[-8.640351,41.159871],[...   \n",
              "2  [[-8.612964,41.140359],[-8.613378,41.14035],[-...   \n",
              "3  [[-8.574678,41.151951],[-8.574705,41.151942],[...   \n",
              "4  [[-8.645994,41.18049],[-8.645949,41.180517],[-...   \n",
              "\n",
              "                         dt  year  month  day  hour  min  weekday  \n",
              "0 2013-07-01 00:00:58+00:00  2013      7    1     0    0        0  \n",
              "1 2013-07-01 00:08:23+00:00  2013      7    1     0    8        0  \n",
              "2 2013-07-01 00:02:31+00:00  2013      7    1     0    2        0  \n",
              "3 2013-07-01 00:00:54+00:00  2013      7    1     0    0        0  \n",
              "4 2013-07-01 00:04:51+00:00  2013      7    1     0    4        0  "
            ]
          },
          "execution_count": 118,
          "metadata": {},
          "output_type": "execute_result"
        }
      ],
      "source": [
        "data.head()"
      ]
    },
    {
      "cell_type": "code",
      "execution_count": 119,
      "metadata": {},
      "outputs": [],
      "source": [
        "# analysing the first row of POLYLINE\n",
        "lon_N_lat = data.loc[0, 'POLYLINE']"
      ]
    },
    {
      "cell_type": "code",
      "execution_count": 120,
      "metadata": {},
      "outputs": [
        {
          "data": {
            "text/plain": [
              "'[[-8.618643,41.141412],[-8.618499,41.141376],[-8.620326,41.14251],[-8.622153,41.143815],[-8.623953,41.144373],[-8.62668,41.144778],[-8.627373,41.144697],[-8.630226,41.14521],[-8.632746,41.14692],[-8.631738,41.148225],[-8.629938,41.150385],[-8.62911,41.151213],[-8.629128,41.15124],[-8.628786,41.152203],[-8.628687,41.152374],[-8.628759,41.152518],[-8.630838,41.15268],[-8.632323,41.153022],[-8.631144,41.154489],[-8.630829,41.154507],[-8.630829,41.154516],[-8.630829,41.154498],[-8.630838,41.154489]]'"
            ]
          },
          "execution_count": 120,
          "metadata": {},
          "output_type": "execute_result"
        }
      ],
      "source": [
        "lon_N_lat"
      ]
    },
    {
      "cell_type": "code",
      "execution_count": 121,
      "metadata": {},
      "outputs": [
        {
          "name": "stdout",
          "output_type": "stream",
          "text": [
            "First Longitude  -8.618643\n",
            "First Latitude  41.141412\n",
            "Last Longitude  -8.630838\n",
            "Last Latitude  41.154489\n"
          ]
        }
      ],
      "source": [
        "# Extracting the first and last coordinates\n",
        "print(\"First Longitude \", re.sub(r\"[[|[|]|]|]]\", \"\", lon_N_lat).split(\",\")[0])\n",
        "print(\"First Latitude \", re.sub(r\"[[|[|]|]|]]\", \"\", lon_N_lat).split(\",\")[1])\n",
        "print(\"Last Longitude \", re.sub(r\"[[|[|]|]|]]\", \"\", lon_N_lat).split(\",\")[-2])\n",
        "print(\"Last Latitude \", re.sub(r\"[[|[|]|]|]]\", \"\", lon_N_lat).split(\",\")[-1])"
      ]
    },
    {
      "cell_type": "markdown",
      "metadata": {},
      "source": [
        "### Data Visualization"
      ]
    },
    {
      "cell_type": "code",
      "execution_count": 122,
      "metadata": {},
      "outputs": [
        {
          "data": {
            "text/plain": [
              "<Figure size 1000x600 with 0 Axes>"
            ]
          },
          "execution_count": 122,
          "metadata": {},
          "output_type": "execute_result"
        },
        {
          "data": {
            "text/plain": [
              "[<matplotlib.lines.Line2D at 0x16dd8c7f650>]"
            ]
          },
          "execution_count": 122,
          "metadata": {},
          "output_type": "execute_result"
        },
        {
          "data": {
            "text/plain": [
              "[<matplotlib.lines.Line2D at 0x16e64791a90>]"
            ]
          },
          "execution_count": 122,
          "metadata": {},
          "output_type": "execute_result"
        },
        {
          "data": {
            "text/plain": [
              "Text(0.5, 0, 'Month')"
            ]
          },
          "execution_count": 122,
          "metadata": {},
          "output_type": "execute_result"
        },
        {
          "data": {
            "text/plain": [
              "Text(0, 0.5, 'Count')"
            ]
          },
          "execution_count": 122,
          "metadata": {},
          "output_type": "execute_result"
        },
        {
          "data": {
            "text/plain": [
              "<matplotlib.legend.Legend at 0x16ddfcc3ad0>"
            ]
          },
          "execution_count": 122,
          "metadata": {},
          "output_type": "execute_result"
        },
        {
          "data": {
            "text/plain": [
              "Text(0.5, 1.0, 'Month-wise Trip Count')"
            ]
          },
          "execution_count": 122,
          "metadata": {},
          "output_type": "execute_result"
        },
        {
          "data": {
            "image/png": "[encoded data removed]",
            "text/plain": [
              "<Figure size 1000x600 with 1 Axes>"
            ]
          },
          "metadata": {},
          "output_type": "display_data"
        }
      ],
      "source": [
        "# Time Series Visualization\n",
        "pivot = pd.pivot_table(data=data, index='month', columns='year', values='TRIP_ID', aggfunc='count').reset_index()\n",
        "\n",
        "# Visualizing as per month count\n",
        "with plt.style.context(\"fivethirtyeight\"):\n",
        "    plt.figure(figsize=(10, 6))\n",
        "    plt.rcParams['font.size'] = 18\n",
        "    plt.plot(pivot['month'], pivot[2013], label='2013')\n",
        "    plt.plot(pivot['month'], pivot[2014], label='2014')\n",
        "    plt.xlabel(\"Month\")\n",
        "    plt.ylabel(\"Count\")\n",
        "    plt.legend(facecolor='white')\n",
        "    plt.title(\"Month-wise Trip Count\")\n"
      ]
    },
    {
      "cell_type": "code",
      "execution_count": 123,
      "metadata": {},
      "outputs": [
        {
          "data": {
            "text/plain": [
              "<Figure size 1000x600 with 0 Axes>"
            ]
          },
          "execution_count": 123,
          "metadata": {},
          "output_type": "execute_result"
        },
        {
          "data": {
            "text/plain": [
              "[<matplotlib.lines.Line2D at 0x16e647fb390>]"
            ]
          },
          "execution_count": 123,
          "metadata": {},
          "output_type": "execute_result"
        },
        {
          "data": {
            "text/plain": [
              "Text(0.5, 0, 'Weekday [0:Monday ~ 6:Sunday]')"
            ]
          },
          "execution_count": 123,
          "metadata": {},
          "output_type": "execute_result"
        },
        {
          "data": {
            "text/plain": [
              "Text(0, 0.5, 'Count')"
            ]
          },
          "execution_count": 123,
          "metadata": {},
          "output_type": "execute_result"
        },
        {
          "data": {
            "text/plain": [
              "(200000.0, 300000.0)"
            ]
          },
          "execution_count": 123,
          "metadata": {},
          "output_type": "execute_result"
        },
        {
          "data": {
            "image/png": "[encoded data removed]",
            "text/plain": [
              "<Figure size 1000x600 with 1 Axes>"
            ]
          },
          "metadata": {},
          "output_type": "display_data"
        }
      ],
      "source": [
        "# Weekly groupby data\n",
        "weekday = pd.DataFrame(data=data.groupby('weekday').TRIP_ID.count()).reset_index()\n",
        "\n",
        "# Visualizing as per weekday count\n",
        "with plt.style.context(\"fivethirtyeight\"):\n",
        "    plt.figure(figsize=(10, 6))\n",
        "    \n",
        "    plt.plot(weekday['weekday'], weekday['TRIP_ID'])\n",
        "    plt.xlabel(\"Weekday [0:Monday ~ 6:Sunday]\")\n",
        "    plt.ylabel(\"Count\")\n",
        "    plt.ylim([200000, 300000])"
      ]
    },
    {
      "cell_type": "code",
      "execution_count": 124,
      "metadata": {},
      "outputs": [
        {
          "data": {
            "text/plain": [
              "<Figure size 1000x600 with 0 Axes>"
            ]
          },
          "execution_count": 124,
          "metadata": {},
          "output_type": "execute_result"
        },
        {
          "data": {
            "text/plain": [
              "<BarContainer object of 3 artists>"
            ]
          },
          "execution_count": 124,
          "metadata": {},
          "output_type": "execute_result"
        },
        {
          "data": {
            "text/plain": [
              "Text(0.5, 0, 'Call_Type')"
            ]
          },
          "execution_count": 124,
          "metadata": {},
          "output_type": "execute_result"
        },
        {
          "data": {
            "text/plain": [
              "Text(0, 0.5, 'Count')"
            ]
          },
          "execution_count": 124,
          "metadata": {},
          "output_type": "execute_result"
        },
        {
          "data": {
            "image/png": "[encoded data removed]",
            "text/plain": [
              "<Figure size 1000x600 with 1 Axes>"
            ]
          },
          "metadata": {},
          "output_type": "display_data"
        }
      ],
      "source": [
        "# Call_Type\n",
        "call_type = pd.DataFrame(data=data.groupby('CALL_TYPE').TRIP_ID.count()).reset_index()\n",
        "\n",
        "# Visualizing as per weekday count\n",
        "with plt.style.context(\"fivethirtyeight\"):\n",
        "    plt.figure(figsize=(10, 6))\n",
        "    \n",
        "    plt.bar(call_type['CALL_TYPE'], call_type['TRIP_ID'])\n",
        "    plt.xlabel(\"Call_Type\")\n",
        "    plt.ylabel(\"Count\")"
      ]
    },
    {
      "cell_type": "code",
      "execution_count": 125,
      "metadata": {},
      "outputs": [],
      "source": [
        "# First Longitude\n",
        "first_longitudes = []\n",
        "\n",
        "for i in range(0, len(data['POLYLINE'])):\n",
        "    if data['POLYLINE'][i] == '[]':\n",
        "        k = 0\n",
        "        first_longitudes.append(k)\n",
        "    else:\n",
        "        k = re.sub(r\"[[|[|]|]|]]\", \"\", data['POLYLINE'][i]).split(\",\")[0]\n",
        "        first_longitudes.append(k)\n",
        "\n",
        "data['1st_longitude'] = first_longitudes\n",
        "\n",
        "# First Latitude\n",
        "first_latitudes = []\n",
        "\n",
        "for i in range(0, len(data['POLYLINE'])):\n",
        "    if data['POLYLINE'][i] == '[]':\n",
        "        k = 0\n",
        "        first_latitudes.append(k)\n",
        "    else:\n",
        "        k = re.sub(r\"[[|[|]|]|]]\", \"\", data['POLYLINE'][i]).split(\",\")[1]\n",
        "        first_latitudes.append(k)\n",
        "\n",
        "data['1st_latitude'] = first_latitudes"
      ]
    },
    {
      "cell_type": "code",
      "execution_count": 126,
      "metadata": {},
      "outputs": [],
      "source": [
        "# Last Longitude\n",
        "last_longitudes = []\n",
        "\n",
        "for i in range(0, len(data['POLYLINE'])):\n",
        "    if data['POLYLINE'][i] == '[]':\n",
        "        k = 0\n",
        "        last_longitudes.append(k)\n",
        "    else:\n",
        "        k = re.sub(r\"[[|[|]|]|]]\", \"\", data['POLYLINE'][i]).split(\",\")[-2]\n",
        "        last_longitudes.append(k)\n",
        "\n",
        "data['last_longitude'] = last_longitudes\n",
        "\n",
        "# Last Latitude\n",
        "last_latitudes = []\n",
        "\n",
        "for i in range(0, len(data['POLYLINE'])):\n",
        "    if data['POLYLINE'][i] == '[]':\n",
        "        k = 0\n",
        "        last_latitudes.append(k)\n",
        "    else:\n",
        "        k = re.sub(r\"[[|[|]|]|]]\", \"\", data['POLYLINE'][i]).split(\",\")[-1]\n",
        "        last_latitudes.append(k)\n",
        "\n",
        "data['last_latitudes'] = last_latitudes"
      ]
    },
    {
      "cell_type": "code",
      "execution_count": 127,
      "metadata": {},
      "outputs": [],
      "source": [
        "# Delete rows where longitude and latitude are 0\n",
        "\n",
        "# data = data.query(\"1st_longitude != 0\")\n",
        "# data = data.query(\"1st_latitude != 0\")\n",
        "data = data.query(\"last_longitude != 0\")\n",
        "# data = data.query(\"last_latitude != 0\")\n"
      ]
    },
    {
      "cell_type": "code",
      "execution_count": 128,
      "metadata": {},
      "outputs": [
        {
          "data": {
            "text/html": [
              "<div>\n",
              "<style scoped>\n",
              "    .dataframe tbody tr th:only-of-type {\n",
              "        vertical-align: middle;\n",
              "    }\n",
              "\n",
              "    .dataframe tbody tr th {\n",
              "        vertical-align: top;\n",
              "    }\n",
              "\n",
              "    .dataframe thead th {\n",
              "        text-align: right;\n",
              "    }\n",
              "</style>\n",
              "<table border=\"1\" class=\"dataframe\">\n",
              "  <thead>\n",
              "    <tr style=\"text-align: right;\">\n",
              "      <th></th>\n",
              "      <th>TRIP_ID</th>\n",
              "      <th>CALL_TYPE</th>\n",
              "      <th>ORIGIN_CALL</th>\n",
              "      <th>ORIGIN_STAND</th>\n",
              "      <th>TAXI_ID</th>\n",
              "      <th>TIMESTAMP</th>\n",
              "      <th>DAY_TYPE</th>\n",
              "      <th>MISSING_DATA</th>\n",
              "      <th>POLYLINE</th>\n",
              "      <th>dt</th>\n",
              "      <th>year</th>\n",
              "      <th>month</th>\n",
              "      <th>day</th>\n",
              "      <th>hour</th>\n",
              "      <th>min</th>\n",
              "      <th>weekday</th>\n",
              "      <th>1st_longitude</th>\n",
              "      <th>1st_latitude</th>\n",
              "      <th>last_longitude</th>\n",
              "      <th>last_latitudes</th>\n",
              "    </tr>\n",
              "  </thead>\n",
              "  <tbody>\n",
              "    <tr>\n",
              "      <th>0</th>\n",
              "      <td>1372636858620000589</td>\n",
              "      <td>C</td>\n",
              "      <td>NaN</td>\n",
              "      <td>NaN</td>\n",
              "      <td>20000589</td>\n",
              "      <td>1.372637e+09</td>\n",
              "      <td>A</td>\n",
              "      <td>False</td>\n",
              "      <td>[[-8.618643,41.141412],[-8.618499,41.141376],[...</td>\n",
              "      <td>2013-07-01 00:00:58+00:00</td>\n",
              "      <td>2013</td>\n",
              "      <td>7</td>\n",
              "      <td>1</td>\n",
              "      <td>0</td>\n",
              "      <td>0</td>\n",
              "      <td>0</td>\n",
              "      <td>-8.618643</td>\n",
              "      <td>41.141412</td>\n",
              "      <td>-8.630838</td>\n",
              "      <td>41.154489</td>\n",
              "    </tr>\n",
              "    <tr>\n",
              "      <th>1</th>\n",
              "      <td>1372637303620000596</td>\n",
              "      <td>B</td>\n",
              "      <td>NaN</td>\n",
              "      <td>7.0</td>\n",
              "      <td>20000596</td>\n",
              "      <td>1.372637e+09</td>\n",
              "      <td>A</td>\n",
              "      <td>False</td>\n",
              "      <td>[[-8.639847,41.159826],[-8.640351,41.159871],[...</td>\n",
              "      <td>2013-07-01 00:08:23+00:00</td>\n",
              "      <td>2013</td>\n",
              "      <td>7</td>\n",
              "      <td>1</td>\n",
              "      <td>0</td>\n",
              "      <td>8</td>\n",
              "      <td>0</td>\n",
              "      <td>-8.639847</td>\n",
              "      <td>41.159826</td>\n",
              "      <td>-8.66574</td>\n",
              "      <td>41.170671</td>\n",
              "    </tr>\n",
              "    <tr>\n",
              "      <th>2</th>\n",
              "      <td>1372636951620000320</td>\n",
              "      <td>C</td>\n",
              "      <td>NaN</td>\n",
              "      <td>NaN</td>\n",
              "      <td>20000320</td>\n",
              "      <td>1.372637e+09</td>\n",
              "      <td>A</td>\n",
              "      <td>False</td>\n",
              "      <td>[[-8.612964,41.140359],[-8.613378,41.14035],[-...</td>\n",
              "      <td>2013-07-01 00:02:31+00:00</td>\n",
              "      <td>2013</td>\n",
              "      <td>7</td>\n",
              "      <td>1</td>\n",
              "      <td>0</td>\n",
              "      <td>2</td>\n",
              "      <td>0</td>\n",
              "      <td>-8.612964</td>\n",
              "      <td>41.140359</td>\n",
              "      <td>-8.61597</td>\n",
              "      <td>41.14053</td>\n",
              "    </tr>\n",
              "    <tr>\n",
              "      <th>3</th>\n",
              "      <td>1372636854620000520</td>\n",
              "      <td>C</td>\n",
              "      <td>NaN</td>\n",
              "      <td>NaN</td>\n",
              "      <td>20000520</td>\n",
              "      <td>1.372637e+09</td>\n",
              "      <td>A</td>\n",
              "      <td>False</td>\n",
              "      <td>[[-8.574678,41.151951],[-8.574705,41.151942],[...</td>\n",
              "      <td>2013-07-01 00:00:54+00:00</td>\n",
              "      <td>2013</td>\n",
              "      <td>7</td>\n",
              "      <td>1</td>\n",
              "      <td>0</td>\n",
              "      <td>0</td>\n",
              "      <td>0</td>\n",
              "      <td>-8.574678</td>\n",
              "      <td>41.151951</td>\n",
              "      <td>-8.607996</td>\n",
              "      <td>41.142915</td>\n",
              "    </tr>\n",
              "    <tr>\n",
              "      <th>4</th>\n",
              "      <td>1372637091620000337</td>\n",
              "      <td>C</td>\n",
              "      <td>NaN</td>\n",
              "      <td>NaN</td>\n",
              "      <td>20000337</td>\n",
              "      <td>1.372637e+09</td>\n",
              "      <td>A</td>\n",
              "      <td>False</td>\n",
              "      <td>[[-8.645994,41.18049],[-8.645949,41.180517],[-...</td>\n",
              "      <td>2013-07-01 00:04:51+00:00</td>\n",
              "      <td>2013</td>\n",
              "      <td>7</td>\n",
              "      <td>1</td>\n",
              "      <td>0</td>\n",
              "      <td>4</td>\n",
              "      <td>0</td>\n",
              "      <td>-8.645994</td>\n",
              "      <td>41.18049</td>\n",
              "      <td>-8.687268</td>\n",
              "      <td>41.178087</td>\n",
              "    </tr>\n",
              "  </tbody>\n",
              "</table>\n",
              "</div>"
            ],
            "text/plain": [
              "               TRIP_ID CALL_TYPE  ORIGIN_CALL  ORIGIN_STAND   TAXI_ID  \\\n",
              "0  1372636858620000589         C          NaN           NaN  20000589   \n",
              "1  1372637303620000596         B          NaN           7.0  20000596   \n",
              "2  1372636951620000320         C          NaN           NaN  20000320   \n",
              "3  1372636854620000520         C          NaN           NaN  20000520   \n",
              "4  1372637091620000337         C          NaN           NaN  20000337   \n",
              "\n",
              "      TIMESTAMP DAY_TYPE  MISSING_DATA  \\\n",
              "0  1.372637e+09        A         False   \n",
              "1  1.372637e+09        A         False   \n",
              "2  1.372637e+09        A         False   \n",
              "3  1.372637e+09        A         False   \n",
              "4  1.372637e+09        A         False   \n",
              "\n",
              "                                            POLYLINE  \\\n",
              "0  [[-8.618643,41.141412],[-8.618499,41.141376],[...   \n",
              "1  [[-8.639847,41.159826],[-8.640351,41.159871],[...   \n",
              "2  [[-8.612964,41.140359],[-8.613378,41.14035],[-...   \n",
              "3  [[-8.574678,41.151951],[-8.574705,41.151942],[...   \n",
              "4  [[-8.645994,41.18049],[-8.645949,41.180517],[-...   \n",
              "\n",
              "                         dt  year  month  day  hour  min  weekday  \\\n",
              "0 2013-07-01 00:00:58+00:00  2013      7    1     0    0        0   \n",
              "1 2013-07-01 00:08:23+00:00  2013      7    1     0    8        0   \n",
              "2 2013-07-01 00:02:31+00:00  2013      7    1     0    2        0   \n",
              "3 2013-07-01 00:00:54+00:00  2013      7    1     0    0        0   \n",
              "4 2013-07-01 00:04:51+00:00  2013      7    1     0    4        0   \n",
              "\n",
              "  1st_longitude 1st_latitude last_longitude last_latitudes  \n",
              "0     -8.618643    41.141412      -8.630838      41.154489  \n",
              "1     -8.639847    41.159826       -8.66574      41.170671  \n",
              "2     -8.612964    41.140359       -8.61597       41.14053  \n",
              "3     -8.574678    41.151951      -8.607996      41.142915  \n",
              "4     -8.645994     41.18049      -8.687268      41.178087  "
            ]
          },
          "execution_count": 128,
          "metadata": {},
          "output_type": "execute_result"
        }
      ],
      "source": [
        "data.head()"
      ]
    },
    {
      "cell_type": "code",
      "execution_count": 129,
      "metadata": {},
      "outputs": [],
      "source": [
        "# Converting the longitude and latitude string values to float values\n",
        "\n",
        "data['1st_longitude'] = [float(val) for val in data['1st_longitude']]\n",
        "data['1st_latitude'] = [float(val) for val in data['1st_latitude']]\n",
        "\n",
        "data['last_longitude'] = [float(val) for val in data['last_longitude']]\n",
        "data['last_latitudes'] = [float(val) for val in data['last_latitudes']]\n"
      ]
    },
    {
      "cell_type": "code",
      "execution_count": 136,
      "metadata": {},
      "outputs": [],
      "source": [
        "# Sample 5000 rows for visualization\n",
        "sample_data = data.head(5000)\n",
        "\n",
        "# Create DataFrame for 1st and last coordinates\n",
        "mapping_1st = pd.DataFrame({\n",
        "    'date': sample_data['dt'].values,\n",
        "    'lat': sample_data['1st_latitude'].values,\n",
        "    'lon': sample_data['1st_longitude'].values\n",
        "})\n",
        "\n",
        "mapping_last = pd.DataFrame({\n",
        "    'date': sample_data['dt'].values,\n",
        "    'lat': sample_data['last_latitudes'].values,\n",
        "    'lon': sample_data['last_longitude'].values\n",
        "})\n",
        "\n",
        "# Create a map centered at a specific location\n",
        "map_ = folium.Map(location=[41.141412, -8.590324], tiles=\"Stamen Terrain\", zoom_start=11)\n",
        "\n",
        "# Add 1st coordinates to the map as red circles\n",
        "for i, r in mapping_1st.iterrows():\n",
        "    folium.CircleMarker(location=[r['lat'], r['lon']], radius=0.5, color='red').add_to(map_)\n",
        "\n",
        "# Add last coordinates to the map as blue circles\n",
        "for i, r in mapping_last.iterrows():\n",
        "    folium.CircleMarker(location=[r['lat'], r['lon']], radius=0.5, color='blue').add_to(map_)\n",
        "\n",
        "# Save the map to an HTML file\n",
        "map_.save(\"taxi_trajectory_map.jpg\")\n",
        "\n",
        "# Display the map\n",
        "map_"
      ]
    },
    {
      "cell_type": "code",
      "execution_count": 140,
      "metadata": {},
      "outputs": [],
      "source": [
        "data['delta_longitude'] = data['last_longitude'] - data['1st_longitude']\n",
        "data['delta_latitude'] = data['last_latitudes'] - data['1st_latitude']"
      ]
    },
    {
      "cell_type": "code",
      "execution_count": 142,
      "metadata": {},
      "outputs": [
        {
          "data": {
            "text/plain": [
              "<matplotlib.collections.PathCollection at 0x16e9cb15fd0>"
            ]
          },
          "execution_count": 142,
          "metadata": {},
          "output_type": "execute_result"
        },
        {
          "data": {
            "text/plain": [
              "Text(0.5, 0, 'Delta Longitude')"
            ]
          },
          "execution_count": 142,
          "metadata": {},
          "output_type": "execute_result"
        },
        {
          "data": {
            "text/plain": [
              "Text(0, 0.5, 'Delta Latitude')"
            ]
          },
          "execution_count": 142,
          "metadata": {},
          "output_type": "execute_result"
        },
        {
          "data": {
            "text/plain": [
              "(array([1.000e+00, 0.000e+00, 1.000e+00, 1.600e+01, 1.920e+02, 8.250e+02,\n",
              "        2.211e+03, 1.405e+03, 2.950e+02, 4.600e+01, 4.000e+00, 0.000e+00,\n",
              "        0.000e+00, 0.000e+00, 1.000e+00, 0.000e+00, 0.000e+00, 0.000e+00,\n",
              "        1.000e+00, 0.000e+00, 0.000e+00, 0.000e+00, 0.000e+00, 0.000e+00,\n",
              "        0.000e+00, 0.000e+00, 0.000e+00, 1.000e+00, 0.000e+00, 1.000e+00]),\n",
              " array([-0.248454 , -0.2119686, -0.1754832, -0.1389978, -0.1025124,\n",
              "        -0.066027 , -0.0295416,  0.0069438,  0.0434292,  0.0799146,\n",
              "         0.1164   ,  0.1528854,  0.1893708,  0.2258562,  0.2623416,\n",
              "         0.298827 ,  0.3353124,  0.3717978,  0.4082832,  0.4447686,\n",
              "         0.481254 ,  0.5177394,  0.5542248,  0.5907102,  0.6271956,\n",
              "         0.663681 ,  0.7001664,  0.7366518,  0.7731372,  0.8096226,\n",
              "         0.846108 ]),\n",
              " <BarContainer object of 30 artists>)"
            ]
          },
          "execution_count": 142,
          "metadata": {},
          "output_type": "execute_result"
        },
        {
          "data": {
            "text/plain": [
              "Text(0.5, 0, 'Delta Longitude')"
            ]
          },
          "execution_count": 142,
          "metadata": {},
          "output_type": "execute_result"
        },
        {
          "data": {
            "text/plain": [
              "Text(0, 0.5, 'Count')"
            ]
          },
          "execution_count": 142,
          "metadata": {},
          "output_type": "execute_result"
        },
        {
          "data": {
            "text/plain": [
              "(array([1.000e+00, 0.000e+00, 0.000e+00, 0.000e+00, 0.000e+00, 0.000e+00,\n",
              "        0.000e+00, 0.000e+00, 0.000e+00, 0.000e+00, 0.000e+00, 0.000e+00,\n",
              "        1.000e+00, 0.000e+00, 0.000e+00, 0.000e+00, 3.000e+00, 1.200e+01,\n",
              "        1.100e+01, 3.300e+01, 3.670e+02, 2.813e+03, 1.307e+03, 1.600e+02,\n",
              "        2.690e+02, 1.300e+01, 6.000e+00, 2.000e+00, 0.000e+00, 2.000e+00]),\n",
              " array([-0.663975, -0.633372, -0.602769, -0.572166, -0.541563, -0.51096 ,\n",
              "        -0.480357, -0.449754, -0.419151, -0.388548, -0.357945, -0.327342,\n",
              "        -0.296739, -0.266136, -0.235533, -0.20493 , -0.174327, -0.143724,\n",
              "        -0.113121, -0.082518, -0.051915, -0.021312,  0.009291,  0.039894,\n",
              "         0.070497,  0.1011  ,  0.131703,  0.162306,  0.192909,  0.223512,\n",
              "         0.254115]),\n",
              " <BarContainer object of 30 artists>)"
            ]
          },
          "execution_count": 142,
          "metadata": {},
          "output_type": "execute_result"
        },
        {
          "data": {
            "text/plain": [
              "Text(0.5, 0, 'Delta Latitude')"
            ]
          },
          "execution_count": 142,
          "metadata": {},
          "output_type": "execute_result"
        },
        {
          "data": {
            "text/plain": [
              "Text(0, 0.5, 'Count')"
            ]
          },
          "execution_count": 142,
          "metadata": {},
          "output_type": "execute_result"
        },
        {
          "data": {
            "image/png": "[encoded data removed]",
            "text/plain": [
              "<Figure size 2000x600 with 3 Axes>"
            ]
          },
          "metadata": {},
          "output_type": "display_data"
        }
      ],
      "source": [
        "sample_data = data.head(5000)\n",
        "\n",
        "with plt.style.context(\"fivethirtyeight\"):\n",
        "    fig, ax = plt.subplots(1, 3, figsize=(20, 6))\n",
        "\n",
        "    # plot\n",
        "    ax[0].scatter(sample_data['delta_longitude'], sample_data['delta_latitude'], s=3, c='red')\n",
        "    ax[0].set_xlabel(\"Delta Longitude\")\n",
        "    ax[0].set_ylabel(\"Delta Latitude\")\n",
        "\n",
        "    # Delta Longitude distribution\n",
        "    ax[1].hist(sample_data['delta_longitude'], bins=30, color='red')\n",
        "    ax[1].set_xlabel(\"Delta Longitude\")\n",
        "    ax[1].set_ylabel(\"Count\")\n",
        "    ax[1].set_yscale('log')\n",
        "\n",
        "     # Delta Longitude distribution\n",
        "    ax[2].hist(sample_data['delta_latitude'], bins=30, color='red')\n",
        "    ax[2].set_xlabel(\"Delta Latitude\")\n",
        "    ax[2].set_ylabel(\"Count\")\n",
        "    ax[2].set_yscale('log')"
      ]
    },
    {
      "cell_type": "code",
      "execution_count": 143,
      "metadata": {},
      "outputs": [],
      "source": [
        "# Monthly delta longitude and delta latitude boxplot\n",
        "data['month_str'] = [str(val) for val in data['month']]"
      ]
    },
    {
      "cell_type": "code",
      "execution_count": 145,
      "metadata": {},
      "outputs": [
        {
          "data": {
            "text/plain": [
              "<Axes: xlabel='month_str', ylabel='delta_longitude'>"
            ]
          },
          "execution_count": 145,
          "metadata": {},
          "output_type": "execute_result"
        },
        {
          "data": {
            "text/plain": [
              "Text(0.5, 0, 'Month')"
            ]
          },
          "execution_count": 145,
          "metadata": {},
          "output_type": "execute_result"
        },
        {
          "data": {
            "text/plain": [
              "Text(0, 0.5, 'Delta Longitude')"
            ]
          },
          "execution_count": 145,
          "metadata": {},
          "output_type": "execute_result"
        },
        {
          "data": {
            "text/plain": [
              "(-0.3, 0.3)"
            ]
          },
          "execution_count": 145,
          "metadata": {},
          "output_type": "execute_result"
        },
        {
          "data": {
            "text/plain": [
              "<Axes: xlabel='month_str', ylabel='delta_latitude'>"
            ]
          },
          "execution_count": 145,
          "metadata": {},
          "output_type": "execute_result"
        },
        {
          "data": {
            "text/plain": [
              "Text(0.5, 0, 'Month')"
            ]
          },
          "execution_count": 145,
          "metadata": {},
          "output_type": "execute_result"
        },
        {
          "data": {
            "text/plain": [
              "Text(0, 0.5, 'Delta Latitude')"
            ]
          },
          "execution_count": 145,
          "metadata": {},
          "output_type": "execute_result"
        },
        {
          "data": {
            "text/plain": [
              "(-0.3, 0.3)"
            ]
          },
          "execution_count": 145,
          "metadata": {},
          "output_type": "execute_result"
        },
        {
          "data": {
            "image/png": "[encoded data removed]",
            "text/plain": [
              "<Figure size 2000x600 with 2 Axes>"
            ]
          },
          "metadata": {},
          "output_type": "display_data"
        }
      ],
      "source": [
        "with plt.style.context(\"fivethirtyeight\"):\n",
        "    fig, ax = plt.subplots(1, 2, figsize=(20, 6))\n",
        "    \n",
        "    # Delta Longitude boxplot\n",
        "    sns.boxplot(x='month_str', y='delta_longitude', data = data, ax=ax[0])\n",
        "    ax[0].set_xlabel(\"Month\")\n",
        "    ax[0].set_ylabel(\"Delta Longitude\")\n",
        "    ax[0].set_ylim(-0.3, 0.3)\n",
        "\n",
        "    # Delta Latitude boxplot\n",
        "    sns.boxplot(x='month_str', y='delta_latitude', data = data, ax=ax[1])\n",
        "    ax[1].set_xlabel(\"Month\")\n",
        "    ax[1].set_ylabel(\"Delta Latitude\")\n",
        "    ax[1].set_ylim(-0.3, 0.3)"
      ]
    },
    {
      "cell_type": "code",
      "execution_count": 146,
      "metadata": {},
      "outputs": [],
      "source": [
        "# Monthly delta longitude and delta latitude boxplot\n",
        "data['weekday_str'] = [str(val) for val in data['weekday']]"
      ]
    },
    {
      "cell_type": "code",
      "execution_count": 147,
      "metadata": {},
      "outputs": [
        {
          "data": {
            "text/plain": [
              "<Axes: xlabel='weekday_str', ylabel='delta_longitude'>"
            ]
          },
          "execution_count": 147,
          "metadata": {},
          "output_type": "execute_result"
        },
        {
          "data": {
            "text/plain": [
              "Text(0.5, 0, 'Week')"
            ]
          },
          "execution_count": 147,
          "metadata": {},
          "output_type": "execute_result"
        },
        {
          "data": {
            "text/plain": [
              "Text(0, 0.5, 'Delta Longitude')"
            ]
          },
          "execution_count": 147,
          "metadata": {},
          "output_type": "execute_result"
        },
        {
          "data": {
            "text/plain": [
              "(-0.3, 0.3)"
            ]
          },
          "execution_count": 147,
          "metadata": {},
          "output_type": "execute_result"
        },
        {
          "data": {
            "text/plain": [
              "<Axes: xlabel='weekday_str', ylabel='delta_latitude'>"
            ]
          },
          "execution_count": 147,
          "metadata": {},
          "output_type": "execute_result"
        },
        {
          "data": {
            "text/plain": [
              "Text(0.5, 0, 'Week')"
            ]
          },
          "execution_count": 147,
          "metadata": {},
          "output_type": "execute_result"
        },
        {
          "data": {
            "text/plain": [
              "Text(0, 0.5, 'Delta Latitude')"
            ]
          },
          "execution_count": 147,
          "metadata": {},
          "output_type": "execute_result"
        },
        {
          "data": {
            "text/plain": [
              "(-0.3, 0.3)"
            ]
          },
          "execution_count": 147,
          "metadata": {},
          "output_type": "execute_result"
        },
        {
          "data": {
            "image/png": "[encoded data removed]",
            "text/plain": [
              "<Figure size 2000x600 with 2 Axes>"
            ]
          },
          "metadata": {},
          "output_type": "display_data"
        }
      ],
      "source": [
        "with plt.style.context(\"fivethirtyeight\"):\n",
        "    fig, ax = plt.subplots(1, 2, figsize=(20, 6))\n",
        "    \n",
        "    # Delta Longitude boxplot\n",
        "    sns.boxplot(x='weekday_str', y='delta_longitude', data = data, ax=ax[0])\n",
        "    ax[0].set_xlabel(\"Week\")\n",
        "    ax[0].set_ylabel(\"Delta Longitude\")\n",
        "    ax[0].set_ylim(-0.3, 0.3)\n",
        "\n",
        "    # Delta Latitude boxplot\n",
        "    sns.boxplot(x='weekday_str', y='delta_latitude', data = data, ax=ax[1])\n",
        "    ax[1].set_xlabel(\"Week\")\n",
        "    ax[1].set_ylabel(\"Delta Latitude\")\n",
        "    ax[1].set_ylim(-0.3, 0.3)"
      ]
    },
    {
      "cell_type": "markdown",
      "metadata": {},
      "source": [
        "### Feature Engineering"
      ]
    },
    {
      "cell_type": "code",
      "execution_count": 148,
      "metadata": {},
      "outputs": [],
      "source": [
        "df = data.copy()"
      ]
    },
    {
      "cell_type": "code",
      "execution_count": 149,
      "metadata": {},
      "outputs": [],
      "source": [
        "# Removing outliers from copy\n",
        "df = df.query(\"delta_longitude <= 0.2 & delta_longitude >= -0.2 & delta_latitude <= 0.2 & delta_latitude >= -0.2\")"
      ]
    },
    {
      "cell_type": "code",
      "execution_count": 150,
      "metadata": {},
      "outputs": [
        {
          "data": {
            "text/html": [
              "<div>\n",
              "<style scoped>\n",
              "    .dataframe tbody tr th:only-of-type {\n",
              "        vertical-align: middle;\n",
              "    }\n",
              "\n",
              "    .dataframe tbody tr th {\n",
              "        vertical-align: top;\n",
              "    }\n",
              "\n",
              "    .dataframe thead th {\n",
              "        text-align: right;\n",
              "    }\n",
              "</style>\n",
              "<table border=\"1\" class=\"dataframe\">\n",
              "  <thead>\n",
              "    <tr style=\"text-align: right;\">\n",
              "      <th></th>\n",
              "      <th>TRIP_ID</th>\n",
              "      <th>CALL_TYPE</th>\n",
              "      <th>ORIGIN_CALL</th>\n",
              "      <th>ORIGIN_STAND</th>\n",
              "      <th>TAXI_ID</th>\n",
              "      <th>TIMESTAMP</th>\n",
              "      <th>DAY_TYPE</th>\n",
              "      <th>MISSING_DATA</th>\n",
              "      <th>POLYLINE</th>\n",
              "      <th>dt</th>\n",
              "      <th>...</th>\n",
              "      <th>min</th>\n",
              "      <th>weekday</th>\n",
              "      <th>1st_longitude</th>\n",
              "      <th>1st_latitude</th>\n",
              "      <th>last_longitude</th>\n",
              "      <th>last_latitudes</th>\n",
              "      <th>delta_longitude</th>\n",
              "      <th>delta_latitude</th>\n",
              "      <th>month_str</th>\n",
              "      <th>weekday_str</th>\n",
              "    </tr>\n",
              "  </thead>\n",
              "  <tbody>\n",
              "    <tr>\n",
              "      <th>0</th>\n",
              "      <td>1372636858620000589</td>\n",
              "      <td>C</td>\n",
              "      <td>NaN</td>\n",
              "      <td>NaN</td>\n",
              "      <td>20000589</td>\n",
              "      <td>1.372637e+09</td>\n",
              "      <td>A</td>\n",
              "      <td>False</td>\n",
              "      <td>[[-8.618643,41.141412],[-8.618499,41.141376],[...</td>\n",
              "      <td>2013-07-01 00:00:58+00:00</td>\n",
              "      <td>...</td>\n",
              "      <td>0</td>\n",
              "      <td>0</td>\n",
              "      <td>-8.618643</td>\n",
              "      <td>41.141412</td>\n",
              "      <td>-8.630838</td>\n",
              "      <td>41.154489</td>\n",
              "      <td>-0.012195</td>\n",
              "      <td>0.013077</td>\n",
              "      <td>7</td>\n",
              "      <td>0</td>\n",
              "    </tr>\n",
              "    <tr>\n",
              "      <th>1</th>\n",
              "      <td>1372637303620000596</td>\n",
              "      <td>B</td>\n",
              "      <td>NaN</td>\n",
              "      <td>7.0</td>\n",
              "      <td>20000596</td>\n",
              "      <td>1.372637e+09</td>\n",
              "      <td>A</td>\n",
              "      <td>False</td>\n",
              "      <td>[[-8.639847,41.159826],[-8.640351,41.159871],[...</td>\n",
              "      <td>2013-07-01 00:08:23+00:00</td>\n",
              "      <td>...</td>\n",
              "      <td>8</td>\n",
              "      <td>0</td>\n",
              "      <td>-8.639847</td>\n",
              "      <td>41.159826</td>\n",
              "      <td>-8.665740</td>\n",
              "      <td>41.170671</td>\n",
              "      <td>-0.025893</td>\n",
              "      <td>0.010845</td>\n",
              "      <td>7</td>\n",
              "      <td>0</td>\n",
              "    </tr>\n",
              "    <tr>\n",
              "      <th>2</th>\n",
              "      <td>1372636951620000320</td>\n",
              "      <td>C</td>\n",
              "      <td>NaN</td>\n",
              "      <td>NaN</td>\n",
              "      <td>20000320</td>\n",
              "      <td>1.372637e+09</td>\n",
              "      <td>A</td>\n",
              "      <td>False</td>\n",
              "      <td>[[-8.612964,41.140359],[-8.613378,41.14035],[-...</td>\n",
              "      <td>2013-07-01 00:02:31+00:00</td>\n",
              "      <td>...</td>\n",
              "      <td>2</td>\n",
              "      <td>0</td>\n",
              "      <td>-8.612964</td>\n",
              "      <td>41.140359</td>\n",
              "      <td>-8.615970</td>\n",
              "      <td>41.140530</td>\n",
              "      <td>-0.003006</td>\n",
              "      <td>0.000171</td>\n",
              "      <td>7</td>\n",
              "      <td>0</td>\n",
              "    </tr>\n",
              "    <tr>\n",
              "      <th>3</th>\n",
              "      <td>1372636854620000520</td>\n",
              "      <td>C</td>\n",
              "      <td>NaN</td>\n",
              "      <td>NaN</td>\n",
              "      <td>20000520</td>\n",
              "      <td>1.372637e+09</td>\n",
              "      <td>A</td>\n",
              "      <td>False</td>\n",
              "      <td>[[-8.574678,41.151951],[-8.574705,41.151942],[...</td>\n",
              "      <td>2013-07-01 00:00:54+00:00</td>\n",
              "      <td>...</td>\n",
              "      <td>0</td>\n",
              "      <td>0</td>\n",
              "      <td>-8.574678</td>\n",
              "      <td>41.151951</td>\n",
              "      <td>-8.607996</td>\n",
              "      <td>41.142915</td>\n",
              "      <td>-0.033318</td>\n",
              "      <td>-0.009036</td>\n",
              "      <td>7</td>\n",
              "      <td>0</td>\n",
              "    </tr>\n",
              "    <tr>\n",
              "      <th>4</th>\n",
              "      <td>1372637091620000337</td>\n",
              "      <td>C</td>\n",
              "      <td>NaN</td>\n",
              "      <td>NaN</td>\n",
              "      <td>20000337</td>\n",
              "      <td>1.372637e+09</td>\n",
              "      <td>A</td>\n",
              "      <td>False</td>\n",
              "      <td>[[-8.645994,41.18049],[-8.645949,41.180517],[-...</td>\n",
              "      <td>2013-07-01 00:04:51+00:00</td>\n",
              "      <td>...</td>\n",
              "      <td>4</td>\n",
              "      <td>0</td>\n",
              "      <td>-8.645994</td>\n",
              "      <td>41.180490</td>\n",
              "      <td>-8.687268</td>\n",
              "      <td>41.178087</td>\n",
              "      <td>-0.041274</td>\n",
              "      <td>-0.002403</td>\n",
              "      <td>7</td>\n",
              "      <td>0</td>\n",
              "    </tr>\n",
              "  </tbody>\n",
              "</table>\n",
              "<p>5 rows × 24 columns</p>\n",
              "</div>"
            ],
            "text/plain": [
              "               TRIP_ID CALL_TYPE  ORIGIN_CALL  ORIGIN_STAND   TAXI_ID  \\\n",
              "0  1372636858620000589         C          NaN           NaN  20000589   \n",
              "1  1372637303620000596         B          NaN           7.0  20000596   \n",
              "2  1372636951620000320         C          NaN           NaN  20000320   \n",
              "3  1372636854620000520         C          NaN           NaN  20000520   \n",
              "4  1372637091620000337         C          NaN           NaN  20000337   \n",
              "\n",
              "      TIMESTAMP DAY_TYPE  MISSING_DATA  \\\n",
              "0  1.372637e+09        A         False   \n",
              "1  1.372637e+09        A         False   \n",
              "2  1.372637e+09        A         False   \n",
              "3  1.372637e+09        A         False   \n",
              "4  1.372637e+09        A         False   \n",
              "\n",
              "                                            POLYLINE  \\\n",
              "0  [[-8.618643,41.141412],[-8.618499,41.141376],[...   \n",
              "1  [[-8.639847,41.159826],[-8.640351,41.159871],[...   \n",
              "2  [[-8.612964,41.140359],[-8.613378,41.14035],[-...   \n",
              "3  [[-8.574678,41.151951],[-8.574705,41.151942],[...   \n",
              "4  [[-8.645994,41.18049],[-8.645949,41.180517],[-...   \n",
              "\n",
              "                         dt  ...  min  weekday  1st_longitude  1st_latitude  \\\n",
              "0 2013-07-01 00:00:58+00:00  ...    0        0      -8.618643     41.141412   \n",
              "1 2013-07-01 00:08:23+00:00  ...    8        0      -8.639847     41.159826   \n",
              "2 2013-07-01 00:02:31+00:00  ...    2        0      -8.612964     41.140359   \n",
              "3 2013-07-01 00:00:54+00:00  ...    0        0      -8.574678     41.151951   \n",
              "4 2013-07-01 00:04:51+00:00  ...    4        0      -8.645994     41.180490   \n",
              "\n",
              "   last_longitude  last_latitudes  delta_longitude  delta_latitude  month_str  \\\n",
              "0       -8.630838       41.154489        -0.012195        0.013077          7   \n",
              "1       -8.665740       41.170671        -0.025893        0.010845          7   \n",
              "2       -8.615970       41.140530        -0.003006        0.000171          7   \n",
              "3       -8.607996       41.142915        -0.033318       -0.009036          7   \n",
              "4       -8.687268       41.178087        -0.041274       -0.002403          7   \n",
              "\n",
              "   weekday_str  \n",
              "0            0  \n",
              "1            0  \n",
              "2            0  \n",
              "3            0  \n",
              "4            0  \n",
              "\n",
              "[5 rows x 24 columns]"
            ]
          },
          "execution_count": 150,
          "metadata": {},
          "output_type": "execute_result"
        }
      ],
      "source": [
        "df.head()"
      ]
    },
    {
      "cell_type": "code",
      "execution_count": 151,
      "metadata": {},
      "outputs": [
        {
          "data": {
            "text/plain": [
              "Index(['TRIP_ID', 'CALL_TYPE', 'ORIGIN_CALL', 'ORIGIN_STAND', 'TAXI_ID',\n",
              "       'TIMESTAMP', 'DAY_TYPE', 'MISSING_DATA', 'POLYLINE', 'dt', 'year',\n",
              "       'month', 'day', 'hour', 'min', 'weekday', '1st_longitude',\n",
              "       '1st_latitude', 'last_longitude', 'last_latitudes', 'delta_longitude',\n",
              "       'delta_latitude', 'month_str', 'weekday_str'],\n",
              "      dtype='object')"
            ]
          },
          "execution_count": 151,
          "metadata": {},
          "output_type": "execute_result"
        }
      ],
      "source": [
        "df.columns"
      ]
    },
    {
      "cell_type": "code",
      "execution_count": 152,
      "metadata": {},
      "outputs": [],
      "source": [
        "map_call_type = {\"A\": 1, \"B\": 2, \"C\": 3}\n",
        "df['Call_Type'] = df['CALL_TYPE'].map(map_call_type)"
      ]
    },
    {
      "cell_type": "code",
      "execution_count": 153,
      "metadata": {},
      "outputs": [],
      "source": [
        "# ORIGIN_CALL\n",
        "def origin_call(x):\n",
        "    if x['ORIGIN_CALL'] == None:\n",
        "        res = 0\n",
        "    else:\n",
        "        res = 1\n",
        "    return res\n",
        "\n",
        "df['ORIGIN_CALL'] = df.apply(origin_call, axis=1)\n",
        "\n",
        "# ORIGIN_STAND\n",
        "def origin_stand(x):\n",
        "    if x['ORIGIN_STAND'] == None:\n",
        "        res = 0\n",
        "    else:\n",
        "        res = 1\n",
        "    return res\n",
        "\n",
        "df['ORIGIN_STAND'] = df.apply(origin_stand, axis=1)\n",
        "\n",
        "# MISSING_DATA\n",
        "def missing_data(x):\n",
        "    if x['MISSING_DATA'] == None:\n",
        "        res = 1\n",
        "    else:\n",
        "        res = 0\n",
        "    return res\n",
        "\n",
        "df['MISSING_DATA'] = df.apply(missing_data, axis=1)\n",
        "\n",
        "df.drop('DAY_TYPE', axis=1, inplace=True)"
      ]
    },
    {
      "cell_type": "markdown",
      "metadata": {},
      "source": [
        "### Feature Selection and Data Splitting"
      ]
    },
    {
      "cell_type": "code",
      "execution_count": 154,
      "metadata": {},
      "outputs": [],
      "source": [
        "df = df.sample(70000)"
      ]
    },
    {
      "cell_type": "code",
      "execution_count": 155,
      "metadata": {},
      "outputs": [
        {
          "data": {
            "text/plain": [
              "Index(['TRIP_ID', 'CALL_TYPE', 'ORIGIN_CALL', 'ORIGIN_STAND', 'TAXI_ID',\n",
              "       'TIMESTAMP', 'MISSING_DATA', 'POLYLINE', 'dt', 'year', 'month', 'day',\n",
              "       'hour', 'min', 'weekday', '1st_longitude', '1st_latitude',\n",
              "       'last_longitude', 'last_latitudes', 'delta_longitude', 'delta_latitude',\n",
              "       'month_str', 'weekday_str', 'Call_Type'],\n",
              "      dtype='object')"
            ]
          },
          "execution_count": 155,
          "metadata": {},
          "output_type": "execute_result"
        }
      ],
      "source": [
        "df.columns"
      ]
    },
    {
      "cell_type": "code",
      "execution_count": 161,
      "metadata": {},
      "outputs": [],
      "source": [
        "X = df[['Call_Type', 'ORIGIN_CALL', 'ORIGIN_STAND', 'MISSING_DATA', '1st_longitude','1st_latitude','delta_longitude', 'delta_latitude']]\n",
        "y = df[['last_longitude', 'last_latitudes']]"
      ]
    },
    {
      "cell_type": "code",
      "execution_count": 162,
      "metadata": {},
      "outputs": [
        {
          "name": "stdout",
          "output_type": "stream",
          "text": [
            "<class 'pandas.core.frame.DataFrame'>\n",
            "Index: 70000 entries, 804173 to 892088\n",
            "Data columns (total 8 columns):\n",
            " #   Column           Non-Null Count  Dtype  \n",
            "---  ------           --------------  -----  \n",
            " 0   Call_Type        70000 non-null  int64  \n",
            " 1   ORIGIN_CALL      70000 non-null  int64  \n",
            " 2   ORIGIN_STAND     70000 non-null  int64  \n",
            " 3   MISSING_DATA     70000 non-null  int64  \n",
            " 4   1st_longitude    70000 non-null  float64\n",
            " 5   1st_latitude     70000 non-null  float64\n",
            " 6   delta_longitude  70000 non-null  float64\n",
            " 7   delta_latitude   70000 non-null  float64\n",
            "dtypes: float64(4), int64(4)\n",
            "memory usage: 4.8 MB\n"
          ]
        }
      ],
      "source": [
        "X.info()"
      ]
    },
    {
      "cell_type": "code",
      "execution_count": 163,
      "metadata": {},
      "outputs": [],
      "source": [
        "X_train, X_test, y_train, y_test = train_test_split(X, y, test_size=0.3, random_state=10)"
      ]
    },
    {
      "cell_type": "code",
      "execution_count": null,
      "metadata": {},
      "outputs": [],
      "source": []
    },
    {
      "cell_type": "markdown",
      "metadata": {},
      "source": [
        "### Model Building and Evaluation"
      ]
    },
    {
      "cell_type": "code",
      "execution_count": 158,
      "metadata": {},
      "outputs": [],
      "source": [
        "model = MultiOutputRegressor(\n",
        "        RandomForestRegressor(n_estimators=100, random_state=10)\n",
        "    )"
      ]
    },
    {
      "cell_type": "code",
      "execution_count": 164,
      "metadata": {},
      "outputs": [
        {
          "data": {
            "text/html": [
              "<style>#sk-container-id-1 {color: black;background-color: white;}#sk-container-id-1 pre{padding: 0;}#sk-container-id-1 div.sk-toggleable {background-color: white;}#sk-container-id-1 label.sk-toggleable__label {cursor: pointer;display: block;width: 100%;margin-bottom: 0;padding: 0.3em;box-sizing: border-box;text-align: center;}#sk-container-id-1 label.sk-toggleable__label-arrow:before {content: \"▸\";float: left;margin-right: 0.25em;color: #696969;}#sk-container-id-1 label.sk-toggleable__label-arrow:hover:before {color: black;}#sk-container-id-1 div.sk-estimator:hover label.sk-toggleable__label-arrow:before {color: black;}#sk-container-id-1 div.sk-toggleable__content {max-height: 0;max-width: 0;overflow: hidden;text-align: left;background-color: #f0f8ff;}#sk-container-id-1 div.sk-toggleable__content pre {margin: 0.2em;color: black;border-radius: 0.25em;background-color: #f0f8ff;}#sk-container-id-1 input.sk-toggleable__control:checked~div.sk-toggleable__content {max-height: 200px;max-width: 100%;overflow: auto;}#sk-container-id-1 input.sk-toggleable__control:checked~label.sk-toggleable__label-arrow:before {content: \"▾\";}#sk-container-id-1 div.sk-estimator input.sk-toggleable__control:checked~label.sk-toggleable__label {background-color: #d4ebff;}#sk-container-id-1 div.sk-label input.sk-toggleable__control:checked~label.sk-toggleable__label {background-color: #d4ebff;}#sk-container-id-1 input.sk-hidden--visually {border: 0;clip: rect(1px 1px 1px 1px);clip: rect(1px, 1px, 1px, 1px);height: 1px;margin: -1px;overflow: hidden;padding: 0;position: absolute;width: 1px;}#sk-container-id-1 div.sk-estimator {font-family: monospace;background-color: #f0f8ff;border: 1px dotted black;border-radius: 0.25em;box-sizing: border-box;margin-bottom: 0.5em;}#sk-container-id-1 div.sk-estimator:hover {background-color: #d4ebff;}#sk-container-id-1 div.sk-parallel-item::after {content: \"\";width: 100%;border-bottom: 1px solid gray;flex-grow: 1;}#sk-container-id-1 div.sk-label:hover label.sk-toggleable__label {background-color: #d4ebff;}#sk-container-id-1 div.sk-serial::before {content: \"\";position: absolute;border-left: 1px solid gray;box-sizing: border-box;top: 0;bottom: 0;left: 50%;z-index: 0;}#sk-container-id-1 div.sk-serial {display: flex;flex-direction: column;align-items: center;background-color: white;padding-right: 0.2em;padding-left: 0.2em;position: relative;}#sk-container-id-1 div.sk-item {position: relative;z-index: 1;}#sk-container-id-1 div.sk-parallel {display: flex;align-items: stretch;justify-content: center;background-color: white;position: relative;}#sk-container-id-1 div.sk-item::before, #sk-container-id-1 div.sk-parallel-item::before {content: \"\";position: absolute;border-left: 1px solid gray;box-sizing: border-box;top: 0;bottom: 0;left: 50%;z-index: -1;}#sk-container-id-1 div.sk-parallel-item {display: flex;flex-direction: column;z-index: 1;position: relative;background-color: white;}#sk-container-id-1 div.sk-parallel-item:first-child::after {align-self: flex-end;width: 50%;}#sk-container-id-1 div.sk-parallel-item:last-child::after {align-self: flex-start;width: 50%;}#sk-container-id-1 div.sk-parallel-item:only-child::after {width: 0;}#sk-container-id-1 div.sk-dashed-wrapped {border: 1px dashed gray;margin: 0 0.4em 0.5em 0.4em;box-sizing: border-box;padding-bottom: 0.4em;background-color: white;}#sk-container-id-1 div.sk-label label {font-family: monospace;font-weight: bold;display: inline-block;line-height: 1.2em;}#sk-container-id-1 div.sk-label-container {text-align: center;}#sk-container-id-1 div.sk-container {/* jupyter's `normalize.less` sets `[hidden] { display: none; }` but bootstrap.min.css set `[hidden] { display: none !important; }` so we also need the `!important` here to be able to override the default hidden behavior on the sphinx rendered scikit-learn.org. See: https://github.com/scikit-learn/scikit-learn/issues/21755 */display: inline-block !important;position: relative;}#sk-container-id-1 div.sk-text-repr-fallback {display: none;}</style><div id=\"sk-container-id-1\" class=\"sk-top-container\"><div class=\"sk-text-repr-fallback\"><pre>MultiOutputRegressor(estimator=RandomForestRegressor(random_state=10))</pre><b>In a Jupyter environment, please rerun this cell to show the HTML representation or trust the notebook. <br />On GitHub, the HTML representation is unable to render, please try loading this page with nbviewer.org.</b></div><div class=\"sk-container\" hidden><div class=\"sk-item sk-dashed-wrapped\"><div class=\"sk-label-container\"><div class=\"sk-label sk-toggleable\"><input class=\"sk-toggleable__control sk-hidden--visually\" id=\"sk-estimator-id-1\" type=\"checkbox\" ><label for=\"sk-estimator-id-1\" class=\"sk-toggleable__label sk-toggleable__label-arrow\">MultiOutputRegressor</label><div class=\"sk-toggleable__content\"><pre>MultiOutputRegressor(estimator=RandomForestRegressor(random_state=10))</pre></div></div></div><div class=\"sk-parallel\"><div class=\"sk-parallel-item\"><div class=\"sk-item\"><div class=\"sk-label-container\"><div class=\"sk-label sk-toggleable\"><input class=\"sk-toggleable__control sk-hidden--visually\" id=\"sk-estimator-id-2\" type=\"checkbox\" ><label for=\"sk-estimator-id-2\" class=\"sk-toggleable__label sk-toggleable__label-arrow\">estimator: RandomForestRegressor</label><div class=\"sk-toggleable__content\"><pre>RandomForestRegressor(random_state=10)</pre></div></div></div><div class=\"sk-serial\"><div class=\"sk-item\"><div class=\"sk-estimator sk-toggleable\"><input class=\"sk-toggleable__control sk-hidden--visually\" id=\"sk-estimator-id-3\" type=\"checkbox\" ><label for=\"sk-estimator-id-3\" class=\"sk-toggleable__label sk-toggleable__label-arrow\">RandomForestRegressor</label><div class=\"sk-toggleable__content\"><pre>RandomForestRegressor(random_state=10)</pre></div></div></div></div></div></div></div></div></div></div>"
            ],
            "text/plain": [
              "MultiOutputRegressor(estimator=RandomForestRegressor(random_state=10))"
            ]
          },
          "execution_count": 164,
          "metadata": {},
          "output_type": "execute_result"
        }
      ],
      "source": [
        "model.fit(X_train, y_train)"
      ]
    },
    {
      "cell_type": "code",
      "execution_count": 165,
      "metadata": {},
      "outputs": [],
      "source": [
        "y_pred_train = model.predict(X_train)\n",
        "\n",
        "y_pred_test = model.predict(X_test)"
      ]
    },
    {
      "cell_type": "code",
      "execution_count": 167,
      "metadata": {},
      "outputs": [
        {
          "name": "stdout",
          "output_type": "stream",
          "text": [
            "Train MSE score   :  0.00016713799628091905\n",
            "Test MSE score    :  1.4710740279416739e-05\n",
            "--------------------------------------------------------------------------------\n",
            "Train RMSE score  :  0.012928186117198308\n",
            "Test RMSE score   :  0.003835458288055906\n",
            "--------------------------------------------------------------------------------\n",
            "Train R2 score    :  0.9296497794269962\n",
            "Test R2 score     :  0.9806050893129401\n"
          ]
        }
      ],
      "source": [
        "import math\n",
        "\n",
        "mse_train = mean_squared_error(y_train, y_pred_train)\n",
        "mse_test = mean_squared_error(y_test, y_pred_test)\n",
        "\n",
        "rmse_train = math.sqrt(mse_train)\n",
        "rmse_test = math.sqrt(mse_test)\n",
        "\n",
        "r2_train = r2_score(y_train, y_pred_train)\n",
        "r2_test = r2_score(y_test, y_pred_test)\n",
        "\n",
        "\n",
        "print(f\"Train MSE score   :  {mse_train}\")\n",
        "print(f\"Test MSE score    :  {mse_test}\")\n",
        "print(\"-\"*80)\n",
        "print(f\"Train RMSE score  :  {rmse_train}\")\n",
        "print(f\"Test RMSE score   :  {rmse_test}\")\n",
        "print(\"-\"*80)\n",
        "print(f\"Train R2 score    :  {r2_train}\")\n",
        "print(f\"Test R2 score     :  {r2_test}\")"
      ]
    },
    {
      "cell_type": "code",
      "execution_count": 173,
      "metadata": {},
      "outputs": [
        {
          "name": "stdout",
          "output_type": "stream",
          "text": [
            "--------------------------------------------------------------------------------\n",
            "Fitting XGBRegressor\n",
            "--------------------------------------------------------------------------------\n",
            "Fitting 5 folds for each of 8 candidates, totalling 40 fits\n"
          ]
        },
        {
          "data": {
            "text/html": [
              "<style>#sk-container-id-6 {color: black;background-color: white;}#sk-container-id-6 pre{padding: 0;}#sk-container-id-6 div.sk-toggleable {background-color: white;}#sk-container-id-6 label.sk-toggleable__label {cursor: pointer;display: block;width: 100%;margin-bottom: 0;padding: 0.3em;box-sizing: border-box;text-align: center;}#sk-container-id-6 label.sk-toggleable__label-arrow:before {content: \"▸\";float: left;margin-right: 0.25em;color: #696969;}#sk-container-id-6 label.sk-toggleable__label-arrow:hover:before {color: black;}#sk-container-id-6 div.sk-estimator:hover label.sk-toggleable__label-arrow:before {color: black;}#sk-container-id-6 div.sk-toggleable__content {max-height: 0;max-width: 0;overflow: hidden;text-align: left;background-color: #f0f8ff;}#sk-container-id-6 div.sk-toggleable__content pre {margin: 0.2em;color: black;border-radius: 0.25em;background-color: #f0f8ff;}#sk-container-id-6 input.sk-toggleable__control:checked~div.sk-toggleable__content {max-height: 200px;max-width: 100%;overflow: auto;}#sk-container-id-6 input.sk-toggleable__control:checked~label.sk-toggleable__label-arrow:before {content: \"▾\";}#sk-container-id-6 div.sk-estimator input.sk-toggleable__control:checked~label.sk-toggleable__label {background-color: #d4ebff;}#sk-container-id-6 div.sk-label input.sk-toggleable__control:checked~label.sk-toggleable__label {background-color: #d4ebff;}#sk-container-id-6 input.sk-hidden--visually {border: 0;clip: rect(1px 1px 1px 1px);clip: rect(1px, 1px, 1px, 1px);height: 1px;margin: -1px;overflow: hidden;padding: 0;position: absolute;width: 1px;}#sk-container-id-6 div.sk-estimator {font-family: monospace;background-color: #f0f8ff;border: 1px dotted black;border-radius: 0.25em;box-sizing: border-box;margin-bottom: 0.5em;}#sk-container-id-6 div.sk-estimator:hover {background-color: #d4ebff;}#sk-container-id-6 div.sk-parallel-item::after {content: \"\";width: 100%;border-bottom: 1px solid gray;flex-grow: 1;}#sk-container-id-6 div.sk-label:hover label.sk-toggleable__label {background-color: #d4ebff;}#sk-container-id-6 div.sk-serial::before {content: \"\";position: absolute;border-left: 1px solid gray;box-sizing: border-box;top: 0;bottom: 0;left: 50%;z-index: 0;}#sk-container-id-6 div.sk-serial {display: flex;flex-direction: column;align-items: center;background-color: white;padding-right: 0.2em;padding-left: 0.2em;position: relative;}#sk-container-id-6 div.sk-item {position: relative;z-index: 1;}#sk-container-id-6 div.sk-parallel {display: flex;align-items: stretch;justify-content: center;background-color: white;position: relative;}#sk-container-id-6 div.sk-item::before, #sk-container-id-6 div.sk-parallel-item::before {content: \"\";position: absolute;border-left: 1px solid gray;box-sizing: border-box;top: 0;bottom: 0;left: 50%;z-index: -1;}#sk-container-id-6 div.sk-parallel-item {display: flex;flex-direction: column;z-index: 1;position: relative;background-color: white;}#sk-container-id-6 div.sk-parallel-item:first-child::after {align-self: flex-end;width: 50%;}#sk-container-id-6 div.sk-parallel-item:last-child::after {align-self: flex-start;width: 50%;}#sk-container-id-6 div.sk-parallel-item:only-child::after {width: 0;}#sk-container-id-6 div.sk-dashed-wrapped {border: 1px dashed gray;margin: 0 0.4em 0.5em 0.4em;box-sizing: border-box;padding-bottom: 0.4em;background-color: white;}#sk-container-id-6 div.sk-label label {font-family: monospace;font-weight: bold;display: inline-block;line-height: 1.2em;}#sk-container-id-6 div.sk-label-container {text-align: center;}#sk-container-id-6 div.sk-container {/* jupyter's `normalize.less` sets `[hidden] { display: none; }` but bootstrap.min.css set `[hidden] { display: none !important; }` so we also need the `!important` here to be able to override the default hidden behavior on the sphinx rendered scikit-learn.org. See: https://github.com/scikit-learn/scikit-learn/issues/21755 */display: inline-block !important;position: relative;}#sk-container-id-6 div.sk-text-repr-fallback {display: none;}</style><div id=\"sk-container-id-6\" class=\"sk-top-container\"><div class=\"sk-text-repr-fallback\"><pre>GridSearchCV(cv=5,\n",
              "             estimator=MultiOutputRegressor(estimator=XGBRegressor(base_score=None,\n",
              "                                                                   booster=None,\n",
              "                                                                   callbacks=None,\n",
              "                                                                   colsample_bylevel=None,\n",
              "                                                                   colsample_bynode=None,\n",
              "                                                                   colsample_bytree=None,\n",
              "                                                                   device=None,\n",
              "                                                                   early_stopping_rounds=None,\n",
              "                                                                   enable_categorical=False,\n",
              "                                                                   eval_metric=None,\n",
              "                                                                   feature_types=None,\n",
              "                                                                   gamma=None,\n",
              "                                                                   grow_policy=None,\n",
              "                                                                   importance_type=None,\n",
              "                                                                   interaction_constr...\n",
              "                                                                   max_depth=None,\n",
              "                                                                   max_leaves=None,\n",
              "                                                                   min_child_weight=None,\n",
              "                                                                   missing=nan,\n",
              "                                                                   monotone_constraints=None,\n",
              "                                                                   multi_strategy=None,\n",
              "                                                                   n_estimators=None,\n",
              "                                                                   n_jobs=None,\n",
              "                                                                   num_parallel_tree=None,\n",
              "                                                                   random_state=10, ...)),\n",
              "             n_jobs=-1,\n",
              "             param_grid={&#x27;estimator__learning_rate&#x27;: [0.01, 0.1],\n",
              "                         &#x27;estimator__max_depth&#x27;: [3, 5],\n",
              "                         &#x27;estimator__n_estimators&#x27;: [50, 100]},\n",
              "             scoring=&#x27;neg_mean_squared_error&#x27;, verbose=1)</pre><b>In a Jupyter environment, please rerun this cell to show the HTML representation or trust the notebook. <br />On GitHub, the HTML representation is unable to render, please try loading this page with nbviewer.org.</b></div><div class=\"sk-container\" hidden><div class=\"sk-item sk-dashed-wrapped\"><div class=\"sk-label-container\"><div class=\"sk-label sk-toggleable\"><input class=\"sk-toggleable__control sk-hidden--visually\" id=\"sk-estimator-id-19\" type=\"checkbox\" ><label for=\"sk-estimator-id-19\" class=\"sk-toggleable__label sk-toggleable__label-arrow\">GridSearchCV</label><div class=\"sk-toggleable__content\"><pre>GridSearchCV(cv=5,\n",
              "             estimator=MultiOutputRegressor(estimator=XGBRegressor(base_score=None,\n",
              "                                                                   booster=None,\n",
              "                                                                   callbacks=None,\n",
              "                                                                   colsample_bylevel=None,\n",
              "                                                                   colsample_bynode=None,\n",
              "                                                                   colsample_bytree=None,\n",
              "                                                                   device=None,\n",
              "                                                                   early_stopping_rounds=None,\n",
              "                                                                   enable_categorical=False,\n",
              "                                                                   eval_metric=None,\n",
              "                                                                   feature_types=None,\n",
              "                                                                   gamma=None,\n",
              "                                                                   grow_policy=None,\n",
              "                                                                   importance_type=None,\n",
              "                                                                   interaction_constr...\n",
              "                                                                   max_depth=None,\n",
              "                                                                   max_leaves=None,\n",
              "                                                                   min_child_weight=None,\n",
              "                                                                   missing=nan,\n",
              "                                                                   monotone_constraints=None,\n",
              "                                                                   multi_strategy=None,\n",
              "                                                                   n_estimators=None,\n",
              "                                                                   n_jobs=None,\n",
              "                                                                   num_parallel_tree=None,\n",
              "                                                                   random_state=10, ...)),\n",
              "             n_jobs=-1,\n",
              "             param_grid={&#x27;estimator__learning_rate&#x27;: [0.01, 0.1],\n",
              "                         &#x27;estimator__max_depth&#x27;: [3, 5],\n",
              "                         &#x27;estimator__n_estimators&#x27;: [50, 100]},\n",
              "             scoring=&#x27;neg_mean_squared_error&#x27;, verbose=1)</pre></div></div></div><div class=\"sk-parallel\"><div class=\"sk-parallel-item\"><div class=\"sk-item\"><div class=\"sk-label-container\"><div class=\"sk-label sk-toggleable\"><input class=\"sk-toggleable__control sk-hidden--visually\" id=\"sk-estimator-id-20\" type=\"checkbox\" ><label for=\"sk-estimator-id-20\" class=\"sk-toggleable__label sk-toggleable__label-arrow\">estimator: MultiOutputRegressor</label><div class=\"sk-toggleable__content\"><pre>MultiOutputRegressor(estimator=XGBRegressor(base_score=None, booster=None,\n",
              "                                            callbacks=None,\n",
              "                                            colsample_bylevel=None,\n",
              "                                            colsample_bynode=None,\n",
              "                                            colsample_bytree=None, device=None,\n",
              "                                            early_stopping_rounds=None,\n",
              "                                            enable_categorical=False,\n",
              "                                            eval_metric=None,\n",
              "                                            feature_types=None, gamma=None,\n",
              "                                            grow_policy=None,\n",
              "                                            importance_type=None,\n",
              "                                            interaction_constraints=None,\n",
              "                                            learning_rate=None, max_bin=None,\n",
              "                                            max_cat_threshold=None,\n",
              "                                            max_cat_to_onehot=None,\n",
              "                                            max_delta_step=None, max_depth=None,\n",
              "                                            max_leaves=None,\n",
              "                                            min_child_weight=None, missing=nan,\n",
              "                                            monotone_constraints=None,\n",
              "                                            multi_strategy=None,\n",
              "                                            n_estimators=None, n_jobs=None,\n",
              "                                            num_parallel_tree=None,\n",
              "                                            random_state=10, ...))</pre></div></div></div><div class=\"sk-serial\"><div class=\"sk-item sk-dashed-wrapped\"><div class=\"sk-parallel\"><div class=\"sk-parallel-item\"><div class=\"sk-item\"><div class=\"sk-label-container\"><div class=\"sk-label sk-toggleable\"><input class=\"sk-toggleable__control sk-hidden--visually\" id=\"sk-estimator-id-21\" type=\"checkbox\" ><label for=\"sk-estimator-id-21\" class=\"sk-toggleable__label sk-toggleable__label-arrow\">estimator: XGBRegressor</label><div class=\"sk-toggleable__content\"><pre>XGBRegressor(base_score=None, booster=None, callbacks=None,\n",
              "             colsample_bylevel=None, colsample_bynode=None,\n",
              "             colsample_bytree=None, device=None, early_stopping_rounds=None,\n",
              "             enable_categorical=False, eval_metric=None, feature_types=None,\n",
              "             gamma=None, grow_policy=None, importance_type=None,\n",
              "             interaction_constraints=None, learning_rate=None, max_bin=None,\n",
              "             max_cat_threshold=None, max_cat_to_onehot=None,\n",
              "             max_delta_step=None, max_depth=None, max_leaves=None,\n",
              "             min_child_weight=None, missing=nan, monotone_constraints=None,\n",
              "             multi_strategy=None, n_estimators=None, n_jobs=None,\n",
              "             num_parallel_tree=None, random_state=10, ...)</pre></div></div></div><div class=\"sk-serial\"><div class=\"sk-item\"><div class=\"sk-estimator sk-toggleable\"><input class=\"sk-toggleable__control sk-hidden--visually\" id=\"sk-estimator-id-22\" type=\"checkbox\" ><label for=\"sk-estimator-id-22\" class=\"sk-toggleable__label sk-toggleable__label-arrow\">XGBRegressor</label><div class=\"sk-toggleable__content\"><pre>XGBRegressor(base_score=None, booster=None, callbacks=None,\n",
              "             colsample_bylevel=None, colsample_bynode=None,\n",
              "             colsample_bytree=None, device=None, early_stopping_rounds=None,\n",
              "             enable_categorical=False, eval_metric=None, feature_types=None,\n",
              "             gamma=None, grow_policy=None, importance_type=None,\n",
              "             interaction_constraints=None, learning_rate=None, max_bin=None,\n",
              "             max_cat_threshold=None, max_cat_to_onehot=None,\n",
              "             max_delta_step=None, max_depth=None, max_leaves=None,\n",
              "             min_child_weight=None, missing=nan, monotone_constraints=None,\n",
              "             multi_strategy=None, n_estimators=None, n_jobs=None,\n",
              "             num_parallel_tree=None, random_state=10, ...)</pre></div></div></div></div></div></div></div></div></div></div></div></div></div></div></div>"
            ],
            "text/plain": [
              "GridSearchCV(cv=5,\n",
              "             estimator=MultiOutputRegressor(estimator=XGBRegressor(base_score=None,\n",
              "                                                                   booster=None,\n",
              "                                                                   callbacks=None,\n",
              "                                                                   colsample_bylevel=None,\n",
              "                                                                   colsample_bynode=None,\n",
              "                                                                   colsample_bytree=None,\n",
              "                                                                   device=None,\n",
              "                                                                   early_stopping_rounds=None,\n",
              "                                                                   enable_categorical=False,\n",
              "                                                                   eval_metric=None,\n",
              "                                                                   feature_types=None,\n",
              "                                                                   gamma=None,\n",
              "                                                                   grow_policy=None,\n",
              "                                                                   importance_type=None,\n",
              "                                                                   interaction_constr...\n",
              "                                                                   max_depth=None,\n",
              "                                                                   max_leaves=None,\n",
              "                                                                   min_child_weight=None,\n",
              "                                                                   missing=nan,\n",
              "                                                                   monotone_constraints=None,\n",
              "                                                                   multi_strategy=None,\n",
              "                                                                   n_estimators=None,\n",
              "                                                                   n_jobs=None,\n",
              "                                                                   num_parallel_tree=None,\n",
              "                                                                   random_state=10, ...)),\n",
              "             n_jobs=-1,\n",
              "             param_grid={'estimator__learning_rate': [0.01, 0.1],\n",
              "                         'estimator__max_depth': [3, 5],\n",
              "                         'estimator__n_estimators': [50, 100]},\n",
              "             scoring='neg_mean_squared_error', verbose=1)"
            ]
          },
          "execution_count": 173,
          "metadata": {},
          "output_type": "execute_result"
        },
        {
          "name": "stdout",
          "output_type": "stream",
          "text": [
            "--------------------------------------------------------------------------------\n",
            "Fitting GradientBoostingRegressor\n",
            "--------------------------------------------------------------------------------\n",
            "Fitting 5 folds for each of 8 candidates, totalling 40 fits\n"
          ]
        },
        {
          "data": {
            "text/html": [
              "<style>#sk-container-id-7 {color: black;background-color: white;}#sk-container-id-7 pre{padding: 0;}#sk-container-id-7 div.sk-toggleable {background-color: white;}#sk-container-id-7 label.sk-toggleable__label {cursor: pointer;display: block;width: 100%;margin-bottom: 0;padding: 0.3em;box-sizing: border-box;text-align: center;}#sk-container-id-7 label.sk-toggleable__label-arrow:before {content: \"▸\";float: left;margin-right: 0.25em;color: #696969;}#sk-container-id-7 label.sk-toggleable__label-arrow:hover:before {color: black;}#sk-container-id-7 div.sk-estimator:hover label.sk-toggleable__label-arrow:before {color: black;}#sk-container-id-7 div.sk-toggleable__content {max-height: 0;max-width: 0;overflow: hidden;text-align: left;background-color: #f0f8ff;}#sk-container-id-7 div.sk-toggleable__content pre {margin: 0.2em;color: black;border-radius: 0.25em;background-color: #f0f8ff;}#sk-container-id-7 input.sk-toggleable__control:checked~div.sk-toggleable__content {max-height: 200px;max-width: 100%;overflow: auto;}#sk-container-id-7 input.sk-toggleable__control:checked~label.sk-toggleable__label-arrow:before {content: \"▾\";}#sk-container-id-7 div.sk-estimator input.sk-toggleable__control:checked~label.sk-toggleable__label {background-color: #d4ebff;}#sk-container-id-7 div.sk-label input.sk-toggleable__control:checked~label.sk-toggleable__label {background-color: #d4ebff;}#sk-container-id-7 input.sk-hidden--visually {border: 0;clip: rect(1px 1px 1px 1px);clip: rect(1px, 1px, 1px, 1px);height: 1px;margin: -1px;overflow: hidden;padding: 0;position: absolute;width: 1px;}#sk-container-id-7 div.sk-estimator {font-family: monospace;background-color: #f0f8ff;border: 1px dotted black;border-radius: 0.25em;box-sizing: border-box;margin-bottom: 0.5em;}#sk-container-id-7 div.sk-estimator:hover {background-color: #d4ebff;}#sk-container-id-7 div.sk-parallel-item::after {content: \"\";width: 100%;border-bottom: 1px solid gray;flex-grow: 1;}#sk-container-id-7 div.sk-label:hover label.sk-toggleable__label {background-color: #d4ebff;}#sk-container-id-7 div.sk-serial::before {content: \"\";position: absolute;border-left: 1px solid gray;box-sizing: border-box;top: 0;bottom: 0;left: 50%;z-index: 0;}#sk-container-id-7 div.sk-serial {display: flex;flex-direction: column;align-items: center;background-color: white;padding-right: 0.2em;padding-left: 0.2em;position: relative;}#sk-container-id-7 div.sk-item {position: relative;z-index: 1;}#sk-container-id-7 div.sk-parallel {display: flex;align-items: stretch;justify-content: center;background-color: white;position: relative;}#sk-container-id-7 div.sk-item::before, #sk-container-id-7 div.sk-parallel-item::before {content: \"\";position: absolute;border-left: 1px solid gray;box-sizing: border-box;top: 0;bottom: 0;left: 50%;z-index: -1;}#sk-container-id-7 div.sk-parallel-item {display: flex;flex-direction: column;z-index: 1;position: relative;background-color: white;}#sk-container-id-7 div.sk-parallel-item:first-child::after {align-self: flex-end;width: 50%;}#sk-container-id-7 div.sk-parallel-item:last-child::after {align-self: flex-start;width: 50%;}#sk-container-id-7 div.sk-parallel-item:only-child::after {width: 0;}#sk-container-id-7 div.sk-dashed-wrapped {border: 1px dashed gray;margin: 0 0.4em 0.5em 0.4em;box-sizing: border-box;padding-bottom: 0.4em;background-color: white;}#sk-container-id-7 div.sk-label label {font-family: monospace;font-weight: bold;display: inline-block;line-height: 1.2em;}#sk-container-id-7 div.sk-label-container {text-align: center;}#sk-container-id-7 div.sk-container {/* jupyter's `normalize.less` sets `[hidden] { display: none; }` but bootstrap.min.css set `[hidden] { display: none !important; }` so we also need the `!important` here to be able to override the default hidden behavior on the sphinx rendered scikit-learn.org. See: https://github.com/scikit-learn/scikit-learn/issues/21755 */display: inline-block !important;position: relative;}#sk-container-id-7 div.sk-text-repr-fallback {display: none;}</style><div id=\"sk-container-id-7\" class=\"sk-top-container\"><div class=\"sk-text-repr-fallback\"><pre>GridSearchCV(cv=5,\n",
              "             estimator=MultiOutputRegressor(estimator=GradientBoostingRegressor(random_state=10)),\n",
              "             n_jobs=-1,\n",
              "             param_grid={&#x27;estimator__learning_rate&#x27;: [0.01, 0.1],\n",
              "                         &#x27;estimator__max_depth&#x27;: [3, 5],\n",
              "                         &#x27;estimator__n_estimators&#x27;: [50, 100]},\n",
              "             scoring=&#x27;neg_mean_squared_error&#x27;, verbose=1)</pre><b>In a Jupyter environment, please rerun this cell to show the HTML representation or trust the notebook. <br />On GitHub, the HTML representation is unable to render, please try loading this page with nbviewer.org.</b></div><div class=\"sk-container\" hidden><div class=\"sk-item sk-dashed-wrapped\"><div class=\"sk-label-container\"><div class=\"sk-label sk-toggleable\"><input class=\"sk-toggleable__control sk-hidden--visually\" id=\"sk-estimator-id-23\" type=\"checkbox\" ><label for=\"sk-estimator-id-23\" class=\"sk-toggleable__label sk-toggleable__label-arrow\">GridSearchCV</label><div class=\"sk-toggleable__content\"><pre>GridSearchCV(cv=5,\n",
              "             estimator=MultiOutputRegressor(estimator=GradientBoostingRegressor(random_state=10)),\n",
              "             n_jobs=-1,\n",
              "             param_grid={&#x27;estimator__learning_rate&#x27;: [0.01, 0.1],\n",
              "                         &#x27;estimator__max_depth&#x27;: [3, 5],\n",
              "                         &#x27;estimator__n_estimators&#x27;: [50, 100]},\n",
              "             scoring=&#x27;neg_mean_squared_error&#x27;, verbose=1)</pre></div></div></div><div class=\"sk-parallel\"><div class=\"sk-parallel-item\"><div class=\"sk-item\"><div class=\"sk-label-container\"><div class=\"sk-label sk-toggleable\"><input class=\"sk-toggleable__control sk-hidden--visually\" id=\"sk-estimator-id-24\" type=\"checkbox\" ><label for=\"sk-estimator-id-24\" class=\"sk-toggleable__label sk-toggleable__label-arrow\">estimator: MultiOutputRegressor</label><div class=\"sk-toggleable__content\"><pre>MultiOutputRegressor(estimator=GradientBoostingRegressor(random_state=10))</pre></div></div></div><div class=\"sk-serial\"><div class=\"sk-item sk-dashed-wrapped\"><div class=\"sk-parallel\"><div class=\"sk-parallel-item\"><div class=\"sk-item\"><div class=\"sk-label-container\"><div class=\"sk-label sk-toggleable\"><input class=\"sk-toggleable__control sk-hidden--visually\" id=\"sk-estimator-id-25\" type=\"checkbox\" ><label for=\"sk-estimator-id-25\" class=\"sk-toggleable__label sk-toggleable__label-arrow\">estimator: GradientBoostingRegressor</label><div class=\"sk-toggleable__content\"><pre>GradientBoostingRegressor(random_state=10)</pre></div></div></div><div class=\"sk-serial\"><div class=\"sk-item\"><div class=\"sk-estimator sk-toggleable\"><input class=\"sk-toggleable__control sk-hidden--visually\" id=\"sk-estimator-id-26\" type=\"checkbox\" ><label for=\"sk-estimator-id-26\" class=\"sk-toggleable__label sk-toggleable__label-arrow\">GradientBoostingRegressor</label><div class=\"sk-toggleable__content\"><pre>GradientBoostingRegressor(random_state=10)</pre></div></div></div></div></div></div></div></div></div></div></div></div></div></div></div>"
            ],
            "text/plain": [
              "GridSearchCV(cv=5,\n",
              "             estimator=MultiOutputRegressor(estimator=GradientBoostingRegressor(random_state=10)),\n",
              "             n_jobs=-1,\n",
              "             param_grid={'estimator__learning_rate': [0.01, 0.1],\n",
              "                         'estimator__max_depth': [3, 5],\n",
              "                         'estimator__n_estimators': [50, 100]},\n",
              "             scoring='neg_mean_squared_error', verbose=1)"
            ]
          },
          "execution_count": 173,
          "metadata": {},
          "output_type": "execute_result"
        },
        {
          "name": "stdout",
          "output_type": "stream",
          "text": [
            "Best parameters for XGBRegressor    :   {'estimator__learning_rate': 0.1, 'estimator__max_depth': 5, 'estimator__n_estimators': 100}\n",
            "Best score for XGBRegressor    :   0.0012218630180320497\n",
            "--------------------------------------------------------------------------------\n",
            "--------------------------------------------------------------------------------\n",
            "Best parameters for GradientBoostingRegressor    :   {'estimator__learning_rate': 0.1, 'estimator__max_depth': 3, 'estimator__n_estimators': 100}\n",
            "Best score for GradientBoostingRegressor    :   0.0009440799072045007\n",
            "--------------------------------------------------------------------------------\n",
            "--------------------------------------------------------------------------------\n"
          ]
        }
      ],
      "source": [
        "# Define parameter grids for each model\n",
        "param_grids = {\n",
        "    'XGBRegressor': {\n",
        "        'estimator__n_estimators': [50, 100],\n",
        "        'estimator__learning_rate': [0.01, 0.1],\n",
        "        'estimator__max_depth': [3, 5]\n",
        "    },\n",
        "    'GradientBoostingRegressor': {\n",
        "        'estimator__n_estimators': [50, 100],\n",
        "        'estimator__learning_rate': [0.01, 0.1],\n",
        "        'estimator__max_depth': [3, 5]\n",
        "    },\n",
        "}\n",
        "\n",
        "# Define the models\n",
        "models = {\n",
        "    'XGBRegressor': MultiOutputRegressor(XGBRegressor(objective='reg:squarederror', random_state=10)),\n",
        "    'GradientBoostingRegressor': MultiOutputRegressor(GradientBoostingRegressor(random_state=10)),\n",
        "}\n",
        "\n",
        "# Perform grid search for each model\n",
        "best_params = {}\n",
        "best_scores = {}\n",
        "\n",
        "for model_name, model in models.items():\n",
        "    print(f\"-\"*80)\n",
        "    print(f\"Fitting {model_name}\")\n",
        "    print(f\"-\"*80)\n",
        "\n",
        "    grid = GridSearchCV(\n",
        "        estimator=model,\n",
        "        param_grid=param_grids[model_name],\n",
        "        scoring='neg_mean_squared_error',\n",
        "        cv=5,\n",
        "        n_jobs=-1,\n",
        "        verbose=1\n",
        "    )\n",
        "    grid.fit(X_train, y_train)\n",
        "\n",
        "    best_params[model_name] = grid.best_params_\n",
        "    best_scores[model_name] = -grid.best_score_\n",
        "\n",
        "for model_name in models.keys():\n",
        "    print(f\"Best parameters for {model_name}    :   {best_params[model_name]}\")\n",
        "    print(f\"Best score for {model_name}    :   {best_scores[model_name]}\")\n",
        "    print(f\"-\"*80)\n",
        "    print(f\"-\"*80)\n"
      ]
    },
    {
      "cell_type": "code",
      "execution_count": 172,
      "metadata": {},
      "outputs": [
        {
          "data": {
            "text/html": [
              "<style>#sk-container-id-5 {color: black;background-color: white;}#sk-container-id-5 pre{padding: 0;}#sk-container-id-5 div.sk-toggleable {background-color: white;}#sk-container-id-5 label.sk-toggleable__label {cursor: pointer;display: block;width: 100%;margin-bottom: 0;padding: 0.3em;box-sizing: border-box;text-align: center;}#sk-container-id-5 label.sk-toggleable__label-arrow:before {content: \"▸\";float: left;margin-right: 0.25em;color: #696969;}#sk-container-id-5 label.sk-toggleable__label-arrow:hover:before {color: black;}#sk-container-id-5 div.sk-estimator:hover label.sk-toggleable__label-arrow:before {color: black;}#sk-container-id-5 div.sk-toggleable__content {max-height: 0;max-width: 0;overflow: hidden;text-align: left;background-color: #f0f8ff;}#sk-container-id-5 div.sk-toggleable__content pre {margin: 0.2em;color: black;border-radius: 0.25em;background-color: #f0f8ff;}#sk-container-id-5 input.sk-toggleable__control:checked~div.sk-toggleable__content {max-height: 200px;max-width: 100%;overflow: auto;}#sk-container-id-5 input.sk-toggleable__control:checked~label.sk-toggleable__label-arrow:before {content: \"▾\";}#sk-container-id-5 div.sk-estimator input.sk-toggleable__control:checked~label.sk-toggleable__label {background-color: #d4ebff;}#sk-container-id-5 div.sk-label input.sk-toggleable__control:checked~label.sk-toggleable__label {background-color: #d4ebff;}#sk-container-id-5 input.sk-hidden--visually {border: 0;clip: rect(1px 1px 1px 1px);clip: rect(1px, 1px, 1px, 1px);height: 1px;margin: -1px;overflow: hidden;padding: 0;position: absolute;width: 1px;}#sk-container-id-5 div.sk-estimator {font-family: monospace;background-color: #f0f8ff;border: 1px dotted black;border-radius: 0.25em;box-sizing: border-box;margin-bottom: 0.5em;}#sk-container-id-5 div.sk-estimator:hover {background-color: #d4ebff;}#sk-container-id-5 div.sk-parallel-item::after {content: \"\";width: 100%;border-bottom: 1px solid gray;flex-grow: 1;}#sk-container-id-5 div.sk-label:hover label.sk-toggleable__label {background-color: #d4ebff;}#sk-container-id-5 div.sk-serial::before {content: \"\";position: absolute;border-left: 1px solid gray;box-sizing: border-box;top: 0;bottom: 0;left: 50%;z-index: 0;}#sk-container-id-5 div.sk-serial {display: flex;flex-direction: column;align-items: center;background-color: white;padding-right: 0.2em;padding-left: 0.2em;position: relative;}#sk-container-id-5 div.sk-item {position: relative;z-index: 1;}#sk-container-id-5 div.sk-parallel {display: flex;align-items: stretch;justify-content: center;background-color: white;position: relative;}#sk-container-id-5 div.sk-item::before, #sk-container-id-5 div.sk-parallel-item::before {content: \"\";position: absolute;border-left: 1px solid gray;box-sizing: border-box;top: 0;bottom: 0;left: 50%;z-index: -1;}#sk-container-id-5 div.sk-parallel-item {display: flex;flex-direction: column;z-index: 1;position: relative;background-color: white;}#sk-container-id-5 div.sk-parallel-item:first-child::after {align-self: flex-end;width: 50%;}#sk-container-id-5 div.sk-parallel-item:last-child::after {align-self: flex-start;width: 50%;}#sk-container-id-5 div.sk-parallel-item:only-child::after {width: 0;}#sk-container-id-5 div.sk-dashed-wrapped {border: 1px dashed gray;margin: 0 0.4em 0.5em 0.4em;box-sizing: border-box;padding-bottom: 0.4em;background-color: white;}#sk-container-id-5 div.sk-label label {font-family: monospace;font-weight: bold;display: inline-block;line-height: 1.2em;}#sk-container-id-5 div.sk-label-container {text-align: center;}#sk-container-id-5 div.sk-container {/* jupyter's `normalize.less` sets `[hidden] { display: none; }` but bootstrap.min.css set `[hidden] { display: none !important; }` so we also need the `!important` here to be able to override the default hidden behavior on the sphinx rendered scikit-learn.org. See: https://github.com/scikit-learn/scikit-learn/issues/21755 */display: inline-block !important;position: relative;}#sk-container-id-5 div.sk-text-repr-fallback {display: none;}</style><div id=\"sk-container-id-5\" class=\"sk-top-container\"><div class=\"sk-text-repr-fallback\"><pre>MultiOutputRegressor(estimator=XGBRegressor(base_score=None, booster=None,\n",
              "                                            callbacks=None,\n",
              "                                            colsample_bylevel=None,\n",
              "                                            colsample_bynode=None,\n",
              "                                            colsample_bytree=None, device=None,\n",
              "                                            early_stopping_rounds=None,\n",
              "                                            enable_categorical=False,\n",
              "                                            eval_metric=None,\n",
              "                                            feature_types=None, gamma=None,\n",
              "                                            grow_policy=None,\n",
              "                                            importance_type=None,\n",
              "                                            interaction_constraints=None,\n",
              "                                            learning_rate=0.1, max_bin=None,\n",
              "                                            max_cat_threshold=None,\n",
              "                                            max_cat_to_onehot=None,\n",
              "                                            max_delta_step=None, max_depth=5,\n",
              "                                            max_leaves=None,\n",
              "                                            min_child_weight=None, missing=nan,\n",
              "                                            monotone_constraints=None,\n",
              "                                            multi_strategy=None,\n",
              "                                            n_estimators=100, n_jobs=None,\n",
              "                                            num_parallel_tree=None,\n",
              "                                            random_state=10, ...))</pre><b>In a Jupyter environment, please rerun this cell to show the HTML representation or trust the notebook. <br />On GitHub, the HTML representation is unable to render, please try loading this page with nbviewer.org.</b></div><div class=\"sk-container\" hidden><div class=\"sk-item sk-dashed-wrapped\"><div class=\"sk-label-container\"><div class=\"sk-label sk-toggleable\"><input class=\"sk-toggleable__control sk-hidden--visually\" id=\"sk-estimator-id-16\" type=\"checkbox\" ><label for=\"sk-estimator-id-16\" class=\"sk-toggleable__label sk-toggleable__label-arrow\">MultiOutputRegressor</label><div class=\"sk-toggleable__content\"><pre>MultiOutputRegressor(estimator=XGBRegressor(base_score=None, booster=None,\n",
              "                                            callbacks=None,\n",
              "                                            colsample_bylevel=None,\n",
              "                                            colsample_bynode=None,\n",
              "                                            colsample_bytree=None, device=None,\n",
              "                                            early_stopping_rounds=None,\n",
              "                                            enable_categorical=False,\n",
              "                                            eval_metric=None,\n",
              "                                            feature_types=None, gamma=None,\n",
              "                                            grow_policy=None,\n",
              "                                            importance_type=None,\n",
              "                                            interaction_constraints=None,\n",
              "                                            learning_rate=0.1, max_bin=None,\n",
              "                                            max_cat_threshold=None,\n",
              "                                            max_cat_to_onehot=None,\n",
              "                                            max_delta_step=None, max_depth=5,\n",
              "                                            max_leaves=None,\n",
              "                                            min_child_weight=None, missing=nan,\n",
              "                                            monotone_constraints=None,\n",
              "                                            multi_strategy=None,\n",
              "                                            n_estimators=100, n_jobs=None,\n",
              "                                            num_parallel_tree=None,\n",
              "                                            random_state=10, ...))</pre></div></div></div><div class=\"sk-parallel\"><div class=\"sk-parallel-item\"><div class=\"sk-item\"><div class=\"sk-label-container\"><div class=\"sk-label sk-toggleable\"><input class=\"sk-toggleable__control sk-hidden--visually\" id=\"sk-estimator-id-17\" type=\"checkbox\" ><label for=\"sk-estimator-id-17\" class=\"sk-toggleable__label sk-toggleable__label-arrow\">estimator: XGBRegressor</label><div class=\"sk-toggleable__content\"><pre>XGBRegressor(base_score=None, booster=None, callbacks=None,\n",
              "             colsample_bylevel=None, colsample_bynode=None,\n",
              "             colsample_bytree=None, device=None, early_stopping_rounds=None,\n",
              "             enable_categorical=False, eval_metric=None, feature_types=None,\n",
              "             gamma=None, grow_policy=None, importance_type=None,\n",
              "             interaction_constraints=None, learning_rate=0.1, max_bin=None,\n",
              "             max_cat_threshold=None, max_cat_to_onehot=None,\n",
              "             max_delta_step=None, max_depth=5, max_leaves=None,\n",
              "             min_child_weight=None, missing=nan, monotone_constraints=None,\n",
              "             multi_strategy=None, n_estimators=100, n_jobs=None,\n",
              "             num_parallel_tree=None, random_state=10, ...)</pre></div></div></div><div class=\"sk-serial\"><div class=\"sk-item\"><div class=\"sk-estimator sk-toggleable\"><input class=\"sk-toggleable__control sk-hidden--visually\" id=\"sk-estimator-id-18\" type=\"checkbox\" ><label for=\"sk-estimator-id-18\" class=\"sk-toggleable__label sk-toggleable__label-arrow\">XGBRegressor</label><div class=\"sk-toggleable__content\"><pre>XGBRegressor(base_score=None, booster=None, callbacks=None,\n",
              "             colsample_bylevel=None, colsample_bynode=None,\n",
              "             colsample_bytree=None, device=None, early_stopping_rounds=None,\n",
              "             enable_categorical=False, eval_metric=None, feature_types=None,\n",
              "             gamma=None, grow_policy=None, importance_type=None,\n",
              "             interaction_constraints=None, learning_rate=0.1, max_bin=None,\n",
              "             max_cat_threshold=None, max_cat_to_onehot=None,\n",
              "             max_delta_step=None, max_depth=5, max_leaves=None,\n",
              "             min_child_weight=None, missing=nan, monotone_constraints=None,\n",
              "             multi_strategy=None, n_estimators=100, n_jobs=None,\n",
              "             num_parallel_tree=None, random_state=10, ...)</pre></div></div></div></div></div></div></div></div></div></div>"
            ],
            "text/plain": [
              "MultiOutputRegressor(estimator=XGBRegressor(base_score=None, booster=None,\n",
              "                                            callbacks=None,\n",
              "                                            colsample_bylevel=None,\n",
              "                                            colsample_bynode=None,\n",
              "                                            colsample_bytree=None, device=None,\n",
              "                                            early_stopping_rounds=None,\n",
              "                                            enable_categorical=False,\n",
              "                                            eval_metric=None,\n",
              "                                            feature_types=None, gamma=None,\n",
              "                                            grow_policy=None,\n",
              "                                            importance_type=None,\n",
              "                                            interaction_constraints=None,\n",
              "                                            learning_rate=0.1, max_bin=None,\n",
              "                                            max_cat_threshold=None,\n",
              "                                            max_cat_to_onehot=None,\n",
              "                                            max_delta_step=None, max_depth=5,\n",
              "                                            max_leaves=None,\n",
              "                                            min_child_weight=None, missing=nan,\n",
              "                                            monotone_constraints=None,\n",
              "                                            multi_strategy=None,\n",
              "                                            n_estimators=100, n_jobs=None,\n",
              "                                            num_parallel_tree=None,\n",
              "                                            random_state=10, ...))"
            ]
          },
          "execution_count": 172,
          "metadata": {},
          "output_type": "execute_result"
        },
        {
          "name": "stdout",
          "output_type": "stream",
          "text": [
            "Train MSE score   :  9.23661507745573e-06\n",
            "Test MSE score    :  2.4414498629206908e-05\n",
            "--------------------------------------------------------------------------------\n",
            "Train RMSE score  :  0.003039180000831759\n",
            "Test RMSE score   :  0.004941102976988731\n",
            "--------------------------------------------------------------------------------\n",
            "Train R2 score    :  0.9958703536917306\n",
            "Test R2 score     :  0.9679762507948259\n"
          ]
        }
      ],
      "source": [
        "# XGBoost\n",
        "model = MultiOutputRegressor(\n",
        "        XGBRegressor(\n",
        "            n_estimators=100,\n",
        "            learning_rate=0.1,\n",
        "            max_depth=5,\n",
        "            objective='reg:squarederror',\n",
        "            random_state=10)\n",
        "    )\n",
        "\n",
        "model.fit(X_train, y_train)\n",
        "\n",
        "y_pred_train = model.predict(X_train)\n",
        "y_pred_test = model.predict(X_test)\n",
        "\n",
        "mse_train = mean_squared_error(y_train, y_pred_train)\n",
        "mse_test = mean_squared_error(y_test, y_pred_test)\n",
        "\n",
        "rmse_train = math.sqrt(mse_train)\n",
        "rmse_test = math.sqrt(mse_test)\n",
        "\n",
        "r2_train = r2_score(y_train, y_pred_train)\n",
        "r2_test = r2_score(y_test, y_pred_test)\n",
        "\n",
        "print(f\"Train MSE score   :  {mse_train}\")\n",
        "print(f\"Test MSE score    :  {mse_test}\")\n",
        "print(\"-\"*80)\n",
        "print(f\"Train RMSE score  :  {rmse_train}\")\n",
        "print(f\"Test RMSE score   :  {rmse_test}\")\n",
        "print(\"-\"*80)\n",
        "print(f\"Train R2 score    :  {r2_train}\")\n",
        "print(f\"Test R2 score     :  {r2_test}\")"
      ]
    },
    {
      "cell_type": "code",
      "execution_count": 174,
      "metadata": {},
      "outputs": [
        {
          "data": {
            "text/html": [
              "<style>#sk-container-id-8 {color: black;background-color: white;}#sk-container-id-8 pre{padding: 0;}#sk-container-id-8 div.sk-toggleable {background-color: white;}#sk-container-id-8 label.sk-toggleable__label {cursor: pointer;display: block;width: 100%;margin-bottom: 0;padding: 0.3em;box-sizing: border-box;text-align: center;}#sk-container-id-8 label.sk-toggleable__label-arrow:before {content: \"▸\";float: left;margin-right: 0.25em;color: #696969;}#sk-container-id-8 label.sk-toggleable__label-arrow:hover:before {color: black;}#sk-container-id-8 div.sk-estimator:hover label.sk-toggleable__label-arrow:before {color: black;}#sk-container-id-8 div.sk-toggleable__content {max-height: 0;max-width: 0;overflow: hidden;text-align: left;background-color: #f0f8ff;}#sk-container-id-8 div.sk-toggleable__content pre {margin: 0.2em;color: black;border-radius: 0.25em;background-color: #f0f8ff;}#sk-container-id-8 input.sk-toggleable__control:checked~div.sk-toggleable__content {max-height: 200px;max-width: 100%;overflow: auto;}#sk-container-id-8 input.sk-toggleable__control:checked~label.sk-toggleable__label-arrow:before {content: \"▾\";}#sk-container-id-8 div.sk-estimator input.sk-toggleable__control:checked~label.sk-toggleable__label {background-color: #d4ebff;}#sk-container-id-8 div.sk-label input.sk-toggleable__control:checked~label.sk-toggleable__label {background-color: #d4ebff;}#sk-container-id-8 input.sk-hidden--visually {border: 0;clip: rect(1px 1px 1px 1px);clip: rect(1px, 1px, 1px, 1px);height: 1px;margin: -1px;overflow: hidden;padding: 0;position: absolute;width: 1px;}#sk-container-id-8 div.sk-estimator {font-family: monospace;background-color: #f0f8ff;border: 1px dotted black;border-radius: 0.25em;box-sizing: border-box;margin-bottom: 0.5em;}#sk-container-id-8 div.sk-estimator:hover {background-color: #d4ebff;}#sk-container-id-8 div.sk-parallel-item::after {content: \"\";width: 100%;border-bottom: 1px solid gray;flex-grow: 1;}#sk-container-id-8 div.sk-label:hover label.sk-toggleable__label {background-color: #d4ebff;}#sk-container-id-8 div.sk-serial::before {content: \"\";position: absolute;border-left: 1px solid gray;box-sizing: border-box;top: 0;bottom: 0;left: 50%;z-index: 0;}#sk-container-id-8 div.sk-serial {display: flex;flex-direction: column;align-items: center;background-color: white;padding-right: 0.2em;padding-left: 0.2em;position: relative;}#sk-container-id-8 div.sk-item {position: relative;z-index: 1;}#sk-container-id-8 div.sk-parallel {display: flex;align-items: stretch;justify-content: center;background-color: white;position: relative;}#sk-container-id-8 div.sk-item::before, #sk-container-id-8 div.sk-parallel-item::before {content: \"\";position: absolute;border-left: 1px solid gray;box-sizing: border-box;top: 0;bottom: 0;left: 50%;z-index: -1;}#sk-container-id-8 div.sk-parallel-item {display: flex;flex-direction: column;z-index: 1;position: relative;background-color: white;}#sk-container-id-8 div.sk-parallel-item:first-child::after {align-self: flex-end;width: 50%;}#sk-container-id-8 div.sk-parallel-item:last-child::after {align-self: flex-start;width: 50%;}#sk-container-id-8 div.sk-parallel-item:only-child::after {width: 0;}#sk-container-id-8 div.sk-dashed-wrapped {border: 1px dashed gray;margin: 0 0.4em 0.5em 0.4em;box-sizing: border-box;padding-bottom: 0.4em;background-color: white;}#sk-container-id-8 div.sk-label label {font-family: monospace;font-weight: bold;display: inline-block;line-height: 1.2em;}#sk-container-id-8 div.sk-label-container {text-align: center;}#sk-container-id-8 div.sk-container {/* jupyter's `normalize.less` sets `[hidden] { display: none; }` but bootstrap.min.css set `[hidden] { display: none !important; }` so we also need the `!important` here to be able to override the default hidden behavior on the sphinx rendered scikit-learn.org. See: https://github.com/scikit-learn/scikit-learn/issues/21755 */display: inline-block !important;position: relative;}#sk-container-id-8 div.sk-text-repr-fallback {display: none;}</style><div id=\"sk-container-id-8\" class=\"sk-top-container\"><div class=\"sk-text-repr-fallback\"><pre>MultiOutputRegressor(estimator=GradientBoostingRegressor(random_state=10))</pre><b>In a Jupyter environment, please rerun this cell to show the HTML representation or trust the notebook. <br />On GitHub, the HTML representation is unable to render, please try loading this page with nbviewer.org.</b></div><div class=\"sk-container\" hidden><div class=\"sk-item sk-dashed-wrapped\"><div class=\"sk-label-container\"><div class=\"sk-label sk-toggleable\"><input class=\"sk-toggleable__control sk-hidden--visually\" id=\"sk-estimator-id-27\" type=\"checkbox\" ><label for=\"sk-estimator-id-27\" class=\"sk-toggleable__label sk-toggleable__label-arrow\">MultiOutputRegressor</label><div class=\"sk-toggleable__content\"><pre>MultiOutputRegressor(estimator=GradientBoostingRegressor(random_state=10))</pre></div></div></div><div class=\"sk-parallel\"><div class=\"sk-parallel-item\"><div class=\"sk-item\"><div class=\"sk-label-container\"><div class=\"sk-label sk-toggleable\"><input class=\"sk-toggleable__control sk-hidden--visually\" id=\"sk-estimator-id-28\" type=\"checkbox\" ><label for=\"sk-estimator-id-28\" class=\"sk-toggleable__label sk-toggleable__label-arrow\">estimator: GradientBoostingRegressor</label><div class=\"sk-toggleable__content\"><pre>GradientBoostingRegressor(random_state=10)</pre></div></div></div><div class=\"sk-serial\"><div class=\"sk-item\"><div class=\"sk-estimator sk-toggleable\"><input class=\"sk-toggleable__control sk-hidden--visually\" id=\"sk-estimator-id-29\" type=\"checkbox\" ><label for=\"sk-estimator-id-29\" class=\"sk-toggleable__label sk-toggleable__label-arrow\">GradientBoostingRegressor</label><div class=\"sk-toggleable__content\"><pre>GradientBoostingRegressor(random_state=10)</pre></div></div></div></div></div></div></div></div></div></div>"
            ],
            "text/plain": [
              "MultiOutputRegressor(estimator=GradientBoostingRegressor(random_state=10))"
            ]
          },
          "execution_count": 174,
          "metadata": {},
          "output_type": "execute_result"
        },
        {
          "name": "stdout",
          "output_type": "stream",
          "text": [
            "Train MSE score   :  2.5090159615027634e-06\n",
            "Test MSE score    :  5.018684005804412e-06\n",
            "--------------------------------------------------------------------------------\n",
            "Train RMSE score  :  0.0015839873615350482\n",
            "Test RMSE score   :  0.00224024195251415\n",
            "--------------------------------------------------------------------------------\n",
            "Train R2 score    :  0.9988795651585631\n",
            "Test R2 score     :  0.9938480693638918\n"
          ]
        }
      ],
      "source": [
        "# XGBoost\n",
        "model = MultiOutputRegressor(\n",
        "        GradientBoostingRegressor(\n",
        "            n_estimators=100,\n",
        "            learning_rate=0.1,\n",
        "            max_depth=3,\n",
        "            random_state=10)\n",
        "    )\n",
        "\n",
        "model.fit(X_train, y_train)\n",
        "\n",
        "y_pred_train = model.predict(X_train)\n",
        "y_pred_test = model.predict(X_test)\n",
        "\n",
        "mse_train = mean_squared_error(y_train, y_pred_train)\n",
        "mse_test = mean_squared_error(y_test, y_pred_test)\n",
        "\n",
        "rmse_train = math.sqrt(mse_train)\n",
        "rmse_test = math.sqrt(mse_test)\n",
        "\n",
        "r2_train = r2_score(y_train, y_pred_train)\n",
        "r2_test = r2_score(y_test, y_pred_test)\n",
        "\n",
        "print(f\"Train MSE score   :  {mse_train}\")\n",
        "print(f\"Test MSE score    :  {mse_test}\")\n",
        "print(\"-\"*80)\n",
        "print(f\"Train RMSE score  :  {rmse_train}\")\n",
        "print(f\"Test RMSE score   :  {rmse_test}\")\n",
        "print(\"-\"*80)\n",
        "print(f\"Train R2 score    :  {r2_train}\")\n",
        "print(f\"Test R2 score     :  {r2_test}\")"
      ]
    }
  ],
  "metadata": {
    "colab": {
      "provenance": []
    },
    "kernelspec": {
      "display_name": "Python 3",
      "name": "python3"
    },
    "language_info": {
      "codemirror_mode": {
        "name": "ipython",
        "version": 3
      },
      "file_extension": ".py",
      "mimetype": "text/x-python",
      "name": "python",
      "nbconvert_exporter": "python",
      "pygments_lexer": "ipython3",
      "version": "3.11.7"
    }
  },
  "nbformat": 4,
  "nbformat_minor": 0
}
